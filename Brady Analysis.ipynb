{
 "cells": [
  {
   "cell_type": "markdown",
   "id": "ccd31fb5",
   "metadata": {},
   "source": [
    "# **Brady Analysis**\n",
    "\n",
    "The point of this exercise to to analyze past nfl data and see if brady elevated his players or not. this is done by first creating a baseline of the player with brady, and how he did without."
   ]
  },
  {
   "cell_type": "code",
   "execution_count": 19,
   "id": "64be3b10",
   "metadata": {},
   "outputs": [],
   "source": [
    "#import libraries\n",
    "import numpy as np\n",
    "import pandas as pd\n",
    "import re"
   ]
  },
  {
   "cell_type": "code",
   "execution_count": 20,
   "id": "97936093",
   "metadata": {},
   "outputs": [],
   "source": [
    "#import data undo dataframes for each respective year\n",
    "df13 = pd.read_csv('pbp-2013.csv')\n",
    "df14 = pd.read_csv('pbp-2014.csv')\n",
    "df15 = pd.read_csv('pbp-2015.csv')\n",
    "df16 = pd.read_csv('pbp-2016.csv')\n",
    "df17 = pd.read_csv('pbp-2017.csv')\n",
    "df18 = pd.read_csv('pbp-2018.csv')\n",
    "df19 = pd.read_csv('pbp-2019.csv')\n",
    "df20 = pd.read_csv('pbp-2020.csv')"
   ]
  },
  {
   "cell_type": "code",
   "execution_count": 50,
   "id": "e9472925",
   "metadata": {},
   "outputs": [],
   "source": [
    "def name_bin(df, name):\n",
    "    df_bin = []\n",
    "    for x in df[(df['PlayType'] == 'PASS') & (df['IsIncomplete'] == 0)]['Description']:\n",
    "        if name in x:\n",
    "            x_re = re.compile(r'(\\w\\.\\w+)')\n",
    "            player = x_re.findall(x)\n",
    "            if player[1] not in df_bin:\n",
    "                df_bin.append(player[1])\n",
    "    return df_bin\n",
    "\n",
    "bin_2013 = name_bin(df13, 'T.BRADY')\n",
    "bin_2014 = name_bin(df14, 'T.BRADY')\n",
    "bin_2015 = name_bin(df15, 'T.BRADY')\n",
    "bin_2016 = name_bin(df16, 'T.BRADY')\n",
    "bin_2017 = name_bin(df17, 'T.BRADY')\n",
    "bin_2018 = name_bin(df18, 'T.BRADY')\n",
    "bin_2019 = name_bin(df19, 'T.BRADY')\n",
    "bin_2020 = name_bin(df20, 'T.BRADY')"
   ]
  },
  {
   "cell_type": "code",
   "execution_count": null,
   "id": "819b1640",
   "metadata": {},
   "outputs": [],
   "source": []
  }
 ],
 "metadata": {
  "kernelspec": {
   "display_name": "Python 3",
   "language": "python",
   "name": "python3"
  },
  "language_info": {
   "codemirror_mode": {
    "name": "ipython",
    "version": 3
   },
   "file_extension": ".py",
   "mimetype": "text/x-python",
   "name": "python",
   "nbconvert_exporter": "python",
   "pygments_lexer": "ipython3",
   "version": "3.8.8"
  }
 },
 "nbformat": 4,
 "nbformat_minor": 5
}
