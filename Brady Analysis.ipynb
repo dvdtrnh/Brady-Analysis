{
 "cells": [
  {
   "cell_type": "markdown",
   "id": "ccd31fb5",
   "metadata": {},
   "source": [
    "# **Brady Analysis**\n",
    "\n",
    "The point of this exercise to to analyze past nfl data and see if brady elevated his players or not. this is done by first creating a baseline of the player with brady, and how he did without."
   ]
  },
  {
   "cell_type": "code",
   "execution_count": 308,
   "id": "64be3b10",
   "metadata": {},
   "outputs": [],
   "source": [
    "#import libraries\n",
    "import numpy as np\n",
    "import pandas as pd\n",
    "import re"
   ]
  },
  {
   "cell_type": "code",
   "execution_count": 309,
   "id": "97936093",
   "metadata": {},
   "outputs": [],
   "source": [
    "#import data undo dataframes for each respective year\n",
    "#data is from NFLsavant.com\n",
    "df13 = pd.read_csv('pbp-2013.csv')\n",
    "df14 = pd.read_csv('pbp-2014.csv')\n",
    "df15 = pd.read_csv('pbp-2015.csv')\n",
    "df16 = pd.read_csv('pbp-2016.csv')\n",
    "df17 = pd.read_csv('pbp-2017.csv')\n",
    "df18 = pd.read_csv('pbp-2018.csv')\n",
    "df19 = pd.read_csv('pbp-2019.csv')\n",
    "df20 = pd.read_csv('pbp-2020.csv')"
   ]
  },
  {
   "cell_type": "code",
   "execution_count": 310,
   "id": "22c22592",
   "metadata": {},
   "outputs": [],
   "source": [
    "#create a function to find all players associated with the QB per year\n",
    "def name_bin(df, name):\n",
    "    df_bin = []\n",
    "    for x in df[(df['PlayType'] == 'PASS') & (df['IsIncomplete'] == 0)]['Description']:\n",
    "        if name in x:\n",
    "            x_re = re.compile(r'(\\w\\.\\w+)')\n",
    "            player = x_re.findall(x)\n",
    "            #print(player)\n",
    "            if player[1] not in df_bin:\n",
    "                df_bin.append(player[1])\n",
    "    return df_bin\n",
    "\n",
    "#create bins of players for each respective year\n",
    "bin_2013 = name_bin(df13, QB)\n",
    "bin_2014 = name_bin(df14, QB)\n",
    "bin_2015 = name_bin(df15, QB)\n",
    "bin_2016 = name_bin(df16, QB)\n",
    "bin_2017 = name_bin(df17, QB)\n",
    "bin_2018 = name_bin(df18, QB)\n",
    "bin_2019 = name_bin(df19, QB)\n",
    "bin_2020 = name_bin(df20, QB)\n"
   ]
  },
  {
   "cell_type": "code",
   "execution_count": 311,
   "id": "7fe96bdf",
   "metadata": {},
   "outputs": [
    {
     "name": "stdout",
     "output_type": "stream",
     "text": [
      "13 0 0\n"
     ]
    }
   ],
   "source": [
    "#create a function to total yards and touchdown for the given year\n",
    "def get_stats(name, df, year):\n",
    "    year = str(year)\n",
    "    year = year[2:]\n",
    "    #print(year)\n",
    "    total_yards = 0\n",
    "    total_tds = 0\n",
    "    for index, x in df[(df['PlayType'] == 'PASS')  & \\\n",
    "                       (df['GameDate'].str.contains(str(year))) & (df['IsInterception'] == 0) \\\n",
    "                      & (df['IsIncomplete'] == 0) & (df['IsPenaltyAccepted'] == 0)].iterrows():\n",
    "                           \n",
    "        if name in x['Description']:\n",
    "            x_re = re.compile(r'(\\w\\.\\w+)')\n",
    "            player = x_re.findall(x['Description'])\n",
    "            if len(player) > 1:\n",
    "                if (name == player[1]):\n",
    "                    total_yards += x['Yards']\n",
    "                    total_tds += x['IsTouchdown']\n",
    "    return (year, total_yards, total_tds)\n",
    "\n",
    "#tested for d.amendola  \n",
    "da_yr, da_yds, da_tds = get_stats('80-D.AMENDOLA', df13, 2013)\n",
    "print(da_yr, da_yds, da_tds)\n",
    "            \n",
    "            "
   ]
  },
  {
   "cell_type": "code",
   "execution_count": 312,
   "id": "b677c0fe",
   "metadata": {},
   "outputs": [
    {
     "name": "stderr",
     "output_type": "stream",
     "text": [
      "<ipython-input-312-59d5565a8341>:1: UserWarning: Boolean Series key will be reindexed to match DataFrame index.\n",
      "  da_test = df19[(df13['PlayType'] == 'PASS') & (df19['Description'].str.contains('A.BROWN'))]\n"
     ]
    }
   ],
   "source": [
    "da_test = df19[(df13['PlayType'] == 'PASS') & (df19['Description'].str.contains('A.BROWN'))]\n",
    "da_test.to_csv('datest.csv')"
   ]
  },
  {
   "cell_type": "code",
   "execution_count": 313,
   "id": "36db5a30",
   "metadata": {},
   "outputs": [],
   "source": [
    "#created empty bins for comparison later\n",
    "pre_brady = {}\n",
    "with_brady = {}\n",
    "post_brady = {}\n",
    "\n",
    "#created lists for easier loop access\n",
    "years = [2013, 2014, 2015, 2016, 2017, 2018, 2019, 2020]\n",
    "bins = [bin_2013, bin_2014, bin_2015, bin_2016, bin_2017, bin_2018, bin_2019, bin_2020]\n",
    "dfs = [df13, df14, df15, df16, df17, df18, df19, df20]\n",
    "\n",
    "\n"
   ]
  },
  {
   "cell_type": "code",
   "execution_count": 314,
   "id": "2d4de7b5",
   "metadata": {},
   "outputs": [],
   "source": [
    "#create the initial bin\n",
    "for x in bin_2013:\n",
    "    if x not in with_brady.keys():\n",
    "        with_brady[x] = [get_stats(x, df13, 2013)]\n",
    "#print(list(with_brady.items()))\n",
    "#print(list(with_brady.keys()))"
   ]
  },
  {
   "cell_type": "markdown",
   "id": "ec0af217",
   "metadata": {},
   "source": [
    "for s in range(1,3):\n",
    "    for name in bins[s]:\n",
    "        if name not in bins[s-1]:\n",
    "            if name not in pre_brady.keys():\n",
    "                pre_brady[name] = [get_stats(name, dfs[s], years[s])]\n",
    "            else:\n",
    "                pre_brady[name] += [get_stats(name, dfs[s], years[s])]\n",
    "        elif name not in bins[s+1]:\n",
    "            if name not in post_brady.keys():\n",
    "                post_brady[name] = [get_stats(name, dfs[s], years[s])]\n",
    "            else:\n",
    "                post_brady[name] += [get_stats(name, dfs[s], years[s])]\n",
    "        else:\n",
    "            if name not in with_brady.keys():\n",
    "                with_brady[name] = [get_stats(name, dfs[s], years[s])]\n",
    "            else:\n",
    "                with_brady[name] += [get_stats(name, dfs[s], years[s])]\n",
    "        "
   ]
  },
  {
   "cell_type": "code",
   "execution_count": 315,
   "id": "712c4d3b",
   "metadata": {},
   "outputs": [],
   "source": [
    "for s in range(1,len(bins)-1):\n",
    "    for name in bins[s]:\n",
    "        if name not in bins[s-1]:\n",
    "            if name not in pre_brady.keys():\n",
    "                pre_brady[name] = []\n",
    "            for y in range(0,s):\n",
    "                pre_brady[name] += [get_stats(name, dfs[y], years[y])]\n",
    "                   \n",
    "        if name not in bins[s+1]:\n",
    "            if name not in post_brady.keys():\n",
    "                post_brady[name] = []\n",
    "            for y in range(s+1,len(bins)):\n",
    "                post_brady[name] += [get_stats(name, dfs[y], years[y])]       \n",
    "                \n",
    "        if True:\n",
    "            if name not in with_brady.keys():\n",
    "                with_brady[name] = [get_stats(name, dfs[s], years[s])]\n",
    "            else:\n",
    "                with_brady[name] += [get_stats(name, dfs[s], years[s])]\n",
    "#create the final bin              \n",
    "for name in bin_2020:\n",
    "    if name not in bin_2019:\n",
    "        if name not in pre_brady.keys():\n",
    "            pre_brady[name] = []\n",
    "        for y in range(0,len(years)-1):\n",
    "            pre_brady[name] += [get_stats(name, dfs[y], years[y])]\n",
    "            \n",
    "    if name not in with_brady.keys():\n",
    "        with_brady[name] = [get_stats(x, df20, 2020)]\n",
    "    else:\n",
    "        with_brady[name] += [get_stats(x, df20, 2020)]\n",
    "        "
   ]
  },
  {
   "cell_type": "code",
   "execution_count": 316,
   "id": "2e88925c",
   "metadata": {},
   "outputs": [],
   "source": [
    "#Get rid of brady in the pre bin to avoid confusion\n",
    "pre_brady = {key:val for key, val in pre_brady.items() if key != QB}"
   ]
  },
  {
   "cell_type": "markdown",
   "id": "9a88c375",
   "metadata": {},
   "source": [
    "print('pre')\n",
    "print(pre_brady.items())\n",
    "print('Post')\n",
    "print(post_brady.items())\n",
    "print('with')\n",
    "print(list(with_brady.items()))\n"
   ]
  },
  {
   "cell_type": "code",
   "execution_count": 378,
   "id": "414a2be5",
   "metadata": {},
   "outputs": [
    {
     "name": "stdout",
     "output_type": "stream",
     "text": [
      "        Name Bucket Year Yards  TD\n",
      "44   B.COOKS    Pre   13     0   0\n",
      "45   B.COOKS    Pre   14   550   3\n",
      "46   B.COOKS    Pre   15  1117  10\n",
      "47   B.COOKS    Pre   16  1038   7\n",
      "344  B.COOKS   With   17  1082   7\n",
      "527  B.COOKS   Post   18  1170   6\n",
      "528  B.COOKS   Post   19   480   1\n",
      "529  B.COOKS   Post   20  1113   6\n"
     ]
    }
   ],
   "source": [
    "players = pd.DataFrame(columns = ['Name', 'Bucket', 'Year', 'Yards', 'TD'])\n",
    "\n",
    "\n",
    "for key, value in pre_brady.items():\n",
    "    for x in range(len(value)):\n",
    "        players = players.append({'Name':key, 'Bucket':'Pre', 'Year':value[x][0], \\\n",
    "                                 'Yards':value[x][1], 'TD':value[x][2]}, ignore_index = True)\n",
    "\n",
    "for key, value in with_brady.items():\n",
    "    for x in range(len(value)):\n",
    "        players = players.append({'Name':key, 'Bucket':'With', 'Year':value[x][0], \\\n",
    "                                 'Yards':value[x][1], 'TD':value[x][2]}, ignore_index = True)\n",
    "\n",
    "for key, value in post_brady.items():\n",
    "    for x in range(len(value)):\n",
    "        players = players.append({'Name':key, 'Bucket':'Post', 'Year':value[x][0], \\\n",
    "                                 'Yards':value[x][1], 'TD':value[x][2]}, ignore_index = True)\n",
    "    \n",
    "\n",
    "    \n",
    "\n",
    "\n",
    "\n",
    "\n",
    "\n",
    "\n",
    "players = players.sort_values(by = ['Name', 'Year'])\n",
    "print(players[players['Name'] == 'B.COOKS'])\n"
   ]
  },
  {
   "cell_type": "code",
   "execution_count": 371,
   "id": "8839e0f9",
   "metadata": {},
   "outputs": [
    {
     "name": "stdout",
     "output_type": "stream",
     "text": [
      "final\n",
      "              Name Bucket       Yards        TD\n",
      "0       D.AMENDOLA   With  470.800000  2.400000\n",
      "1       D.AMENDOLA   Post  597.000000  0.666667\n",
      "2        J.EDELMAN    Pre  707.400000  3.600000\n",
      "3        J.EDELMAN   With  908.166667  5.166667\n",
      "4        J.EDELMAN   Post  508.400000  2.600000\n",
      "5      K.THOMPKINS   With  351.000000  2.000000\n",
      "6      K.THOMPKINS   Post   27.500000  0.000000\n",
      "7         S.VEREEN   With  448.500000  3.000000\n",
      "8         S.VEREEN   Post  125.833333  0.666667\n",
      "9   M.HOOMANAWANUI   With   89.000000  0.500000\n",
      "10  M.HOOMANAWANUI   Post   21.333333  0.666667\n",
      "11        A.DOBSON   With  229.333333  1.333333\n",
      "12        A.DOBSON   Post    0.000000  0.000000\n",
      "13       J.DEVELIN    Pre   35.000000  0.000000\n",
      "14       J.DEVELIN   With   44.400000  0.000000\n",
      "15       J.DEVELIN   Post   14.625000  0.000000\n",
      "16        B.BOLDEN    Pre   69.800000  0.500000\n",
      "17        B.BOLDEN   With   88.400000  0.600000\n",
      "18        B.BOLDEN   Post   30.000000  0.444444\n",
      "19        S.RIDLEY   With   41.500000  0.000000\n",
      "20        S.RIDLEY   Post    2.666667  0.000000\n",
      "21    R.GRONKOWSKI    Pre  729.000000  5.714286\n",
      "22    R.GRONKOWSKI   With  729.000000  5.714286\n",
      "23    R.GRONKOWSKI   Post  298.000000  2.500000\n",
      "24        L.BLOUNT   With   43.250000  0.250000\n"
     ]
    }
   ],
   "source": [
    "master_list = []\n",
    "\n",
    "for x in bins:\n",
    "    for i in x:\n",
    "        if i not in master_list:\n",
    "            master_list.append(i)\n",
    "            \n",
    "avg_df = pd.DataFrame(columns = ['Name', 'Bucket', 'Yards', 'TD'])\n",
    "\n",
    "for x in master_list:\n",
    "    pdf = players[players['Name'] == x]\n",
    "    #print(pdf.head())\n",
    "    for s in ['Pre', 'With', 'Post']:    \n",
    "        bdf = pdf[pdf['Bucket'] == s]\n",
    "        if len(bdf) > 1:\n",
    "            avg_yds = bdf['Yards'].mean()\n",
    "            avg_tds = bdf['TD'].mean()\n",
    "            avg_df = avg_df.append({'Name':x, 'Bucket':s, 'Yards':avg_yds, 'TD':avg_tds}, ignore_index = True)\n",
    "\n",
    "            \n",
    "print('final')\n",
    "print(avg_df.head(25))\n",
    "        \n",
    "    "
   ]
  },
  {
   "cell_type": "code",
   "execution_count": 384,
   "id": "3de3713f",
   "metadata": {},
   "outputs": [
    {
     "name": "stdout",
     "output_type": "stream",
     "text": [
      "       Name     Pre   With   Post Improvement  Regression\n",
      "36  B.COOKS  97.625  150.2  118.1      52.575       -32.1\n",
      "          Name    Pre        With       Post Improvement  Regression\n",
      "0   D.AMENDOLA      0   61.480000  63.700000       61.48    2.220000\n",
      "1    J.EDELMAN  92.34  121.816667  66.440000   29.476667  -55.376667\n",
      "2  K.THOMPKINS      0   47.100000   2.750000        47.1  -44.350000\n",
      "3     S.VEREEN      0   62.850000  16.583333       62.85  -46.266667\n",
      "4    Z.SUDFELD      0    3.800000   0.000000         3.8   -3.800000\n"
     ]
    }
   ],
   "source": [
    "master_list = []\n",
    "\n",
    "for x in bins:\n",
    "    for i in x:\n",
    "        if i not in master_list:\n",
    "            master_list.append(i)\n",
    "            \n",
    "avg_df = pd.DataFrame(columns = ['Name', 'Pre', 'With', 'Post'])\n",
    "\n",
    "for x in master_list:\n",
    "    pdf = players[players['Name'] == x]\n",
    "    pre_df = pdf[pdf['Bucket'] == 'Pre']\n",
    "    pre_pts = 0\n",
    "    if len(pre_df) > 0:\n",
    "        pre_yds = pre_df['Yards'].mean() * 0.1\n",
    "        pre_tds = pre_df['TD'].mean() * 6\n",
    "        pre_pts += pre_yds + pre_tds\n",
    "        \n",
    "    with_df = pdf[pdf['Bucket'] == 'With']\n",
    "    with_pts = 0\n",
    "    if len(with_df) > 0:\n",
    "        with_yds = with_df['Yards'].mean() * 0.1\n",
    "        with_tds = with_df['TD'].mean() * 6\n",
    "        with_pts += with_yds + with_tds\n",
    "        \n",
    "    post_df = pdf[pdf['Bucket'] == 'Post']\n",
    "    post_pts = 0\n",
    "    if len(post_df) > 0:\n",
    "        post_yds = post_df['Yards'].mean() * 0.1\n",
    "        post_tds = post_df['TD'].mean() * 6\n",
    "        post_pts += post_yds + post_tds\n",
    "        \n",
    "    avg_df = avg_df.append({'Name':x, 'Pre':pre_pts, 'With':with_pts, 'Post':post_pts}, ignore_index = True)\n",
    "\n",
    "            \n",
    "avg_df['Improvement'] = avg_df['With'] - avg_df['Pre']\n",
    "avg_df['Regression'] = avg_df['Post'] - avg_df['With']\n",
    "\n",
    "\n",
    "print(avg_df[avg_df['Name'] == 'B.COOKS'])\n",
    "print(avg_df.head())\n",
    "        \n",
    "#gronk proving to be an issue for some reason\n",
    "\n"
   ]
  },
  {
   "cell_type": "code",
   "execution_count": null,
   "id": "aa7c2c94",
   "metadata": {},
   "outputs": [],
   "source": []
  }
 ],
 "metadata": {
  "kernelspec": {
   "display_name": "Python 3",
   "language": "python",
   "name": "python3"
  },
  "language_info": {
   "codemirror_mode": {
    "name": "ipython",
    "version": 3
   },
   "file_extension": ".py",
   "mimetype": "text/x-python",
   "name": "python",
   "nbconvert_exporter": "python",
   "pygments_lexer": "ipython3",
   "version": "3.8.8"
  }
 },
 "nbformat": 4,
 "nbformat_minor": 5
}
