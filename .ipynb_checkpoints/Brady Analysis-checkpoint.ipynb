{
 "cells": [
  {
   "cell_type": "markdown",
   "id": "ccd31fb5",
   "metadata": {},
   "source": [
    "# **Brady Analysis**\n",
    "\n",
    "The point of this exercise to to analyze past nfl data and see if brady elevated his players or not. this is done by first creating a baseline of the player with brady, and how he did without."
   ]
  },
  {
   "cell_type": "code",
   "execution_count": 244,
   "id": "64be3b10",
   "metadata": {},
   "outputs": [],
   "source": [
    "#import libraries\n",
    "import numpy as np\n",
    "import pandas as pd\n",
    "import re"
   ]
  },
  {
   "cell_type": "code",
   "execution_count": 245,
   "id": "97936093",
   "metadata": {},
   "outputs": [
    {
     "name": "stderr",
     "output_type": "stream",
     "text": [
      "/opt/anaconda3/lib/python3.8/site-packages/IPython/core/interactiveshell.py:3165: DtypeWarning: Columns (15,33) have mixed types.Specify dtype option on import or set low_memory=False.\n",
      "  has_raised = await self.run_ast_nodes(code_ast.body, cell_name,\n"
     ]
    }
   ],
   "source": [
    "#import data undo dataframes for each respective year\n",
    "#data is from NFLsavant.com\n",
    "df13 = pd.read_csv('pbp-2013.csv')\n",
    "df14 = pd.read_csv('pbp-2014.csv')\n",
    "df15 = pd.read_csv('pbp-2015.csv')\n",
    "df16 = pd.read_csv('pbp-2016.csv')\n",
    "df17 = pd.read_csv('pbp-2017.csv')\n",
    "df18 = pd.read_csv('pbp-2018.csv')\n",
    "df19 = pd.read_csv('pbp-2019.csv')\n",
    "df20 = pd.read_csv('pbp-2020.csv')"
   ]
  },
  {
   "cell_type": "code",
   "execution_count": 246,
   "id": "22c22592",
   "metadata": {},
   "outputs": [],
   "source": [
    "#create a function to find all players associated with the QB per year\n",
    "def name_bin(df, name):\n",
    "    df_bin = []\n",
    "    for x in df[(df['PlayType'] == 'PASS') & (df['IsIncomplete'] == 0)]['Description']:\n",
    "        if name in x:\n",
    "            x_re = re.compile(r'(\\w\\.\\w+)')\n",
    "            player = x_re.findall(x)\n",
    "            #print(player)\n",
    "            if player[1] not in df_bin:\n",
    "                df_bin.append(player[1])\n",
    "    return df_bin\n",
    "\n",
    "#create bins of players for each respective year\n",
    "bin_2013 = name_bin(df13, 'T.BRADY')\n",
    "bin_2014 = name_bin(df14, 'T.BRADY')\n",
    "bin_2015 = name_bin(df15, 'T.BRADY')\n",
    "bin_2016 = name_bin(df16, 'T.BRADY')\n",
    "bin_2017 = name_bin(df17, 'T.BRADY')\n",
    "bin_2018 = name_bin(df18, 'T.BRADY')\n",
    "bin_2019 = name_bin(df19, 'T.BRADY')\n",
    "bin_2020 = name_bin(df20, 'T.BRADY')\n"
   ]
  },
  {
   "cell_type": "code",
   "execution_count": 247,
   "id": "7fe96bdf",
   "metadata": {},
   "outputs": [
    {
     "name": "stdout",
     "output_type": "stream",
     "text": [
      "13 633 2\n"
     ]
    }
   ],
   "source": [
    "#create a function to total yards and touchdown for the given year\n",
    "def get_stats(name, df, year):\n",
    "    year = str(year)\n",
    "    year = year[2:]\n",
    "    #print(year)\n",
    "    total_yards = 0\n",
    "    total_tds = 0\n",
    "    for index, x in df[(df['PlayType'] == 'PASS')  & \\\n",
    "                       (df['GameDate'].str.contains(str(year))) & (df['IsInterception'] == 0) \\\n",
    "                      & (df['IsIncomplete'] == 0) & (df['IsPenaltyAccepted'] == 0)].iterrows():\n",
    "                           \n",
    "        if name in x['Description']:\n",
    "            x_re = re.compile(r'(\\w\\.\\w+)')\n",
    "            player = x_re.findall(x['Description'])\n",
    "            if len(player) > 1:\n",
    "                if (name == player[1]):\n",
    "                    total_yards += x['Yards']\n",
    "                    total_tds += x['IsTouchdown']\n",
    "    return (year, total_yards, total_tds)\n",
    "\n",
    "#tested for d.amendola  \n",
    "da_yr, da_yds, da_tds = get_stats('D.AMENDOLA', df13, 2013)\n",
    "print(da_yr, da_yds, da_tds)\n",
    "            \n",
    "            "
   ]
  },
  {
   "cell_type": "code",
   "execution_count": 248,
   "id": "9a3cd635",
   "metadata": {},
   "outputs": [],
   "source": [
    "da_test = df13[(df13['PlayType'] == 'PASS') & (df13['Description'].str.contains('D.AMENDOLA'))]\n",
    "da_test.to_csv('datest.csv')"
   ]
  },
  {
   "cell_type": "code",
   "execution_count": 249,
   "id": "36db5a30",
   "metadata": {},
   "outputs": [],
   "source": [
    "#created empty bins for comparison later\n",
    "pre_brady = {}\n",
    "with_brady = {}\n",
    "post_brady = {}\n",
    "\n",
    "#created lists for easier loop access\n",
    "years = [2013, 2014, 2015, 2016, 2017, 2018, 2019, 2020]\n",
    "bins = [bin_2013, bin_2014, bin_2015, bin_2016, bin_2017, bin_2018, bin_2019, bin_2020]\n",
    "dfs = [df13, df14, df15, df16, df17, df18, df19, df20]\n",
    "\n",
    "\n"
   ]
  },
  {
   "cell_type": "code",
   "execution_count": 250,
   "id": "2d4de7b5",
   "metadata": {},
   "outputs": [],
   "source": [
    "#create the initial bin\n",
    "for x in bin_2013:\n",
    "    if x not in with_brady.keys():\n",
    "        with_brady[x] = [get_stats(x, df13, 2013)]\n",
    "#print(list(with_brady.items()))\n",
    "#print(list(with_brady.keys()))"
   ]
  },
  {
   "cell_type": "markdown",
   "id": "ec0af217",
   "metadata": {},
   "source": [
    "for s in range(1,3):\n",
    "    for name in bins[s]:\n",
    "        if name not in bins[s-1]:\n",
    "            if name not in pre_brady.keys():\n",
    "                pre_brady[name] = [get_stats(name, dfs[s], years[s])]\n",
    "            else:\n",
    "                pre_brady[name] += [get_stats(name, dfs[s], years[s])]\n",
    "        elif name not in bins[s+1]:\n",
    "            if name not in post_brady.keys():\n",
    "                post_brady[name] = [get_stats(name, dfs[s], years[s])]\n",
    "            else:\n",
    "                post_brady[name] += [get_stats(name, dfs[s], years[s])]\n",
    "        else:\n",
    "            if name not in with_brady.keys():\n",
    "                with_brady[name] = [get_stats(name, dfs[s], years[s])]\n",
    "            else:\n",
    "                with_brady[name] += [get_stats(name, dfs[s], years[s])]\n",
    "        "
   ]
  },
  {
   "cell_type": "code",
   "execution_count": 251,
   "id": "712c4d3b",
   "metadata": {},
   "outputs": [],
   "source": [
    "for s in range(1,len(bins)-1):\n",
    "    for name in bins[s]:\n",
    "        if name not in bins[s-1]:\n",
    "            if name not in pre_brady.keys():\n",
    "                pre_brady[name] = []\n",
    "            for y in range(0,s):\n",
    "                pre_brady[name] += [get_stats(name, dfs[y], years[y])]\n",
    "                   \n",
    "        if name not in bins[s+1]:\n",
    "            if name not in post_brady.keys():\n",
    "                post_brady[name] = []\n",
    "            for y in range(s+1,len(bins)):\n",
    "                post_brady[name] += [get_stats(name, dfs[y], years[y])]       \n",
    "                \n",
    "        if True:\n",
    "            if name not in with_brady.keys():\n",
    "                with_brady[name] = [get_stats(name, dfs[s], years[s])]\n",
    "            else:\n",
    "                with_brady[name] += [get_stats(name, dfs[s], years[s])]\n",
    "#create the final bin              \n",
    "for x in bin_2020:\n",
    "    if x not in with_brady.keys():\n",
    "        with_brady[x] = [get_stats(x, df20, 2020)]\n",
    "    else:\n",
    "        with_brady[x] += [get_stats(x, df20, 2020)]\n",
    "        "
   ]
  },
  {
   "cell_type": "code",
   "execution_count": 252,
   "id": "2e88925c",
   "metadata": {},
   "outputs": [],
   "source": [
    "#Get rid of brady in the pre bin to avoid confusion\n",
    "pre_brady = {key:val for key, val in pre_brady.items() if key != 'T.BRADY'}"
   ]
  },
  {
   "cell_type": "code",
   "execution_count": 253,
   "id": "284da979",
   "metadata": {},
   "outputs": [
    {
     "name": "stdout",
     "output_type": "stream",
     "text": [
      "pre\n",
      "dict_items([('B.LAFELL', [('13', 620, 5)]), ('T.WRIGHT', [('13', 517, 5)]), ('B.TYMS', [('13', 12, 0)]), ('J.GRAY', [('13', 0, 0)]), ('K.MARTIN', [('13', 253, 2), ('14', 78, 0)]), ('D.LEWIS', [('13', 0, 0), ('14', 0, 0)]), ('J.WHITE', [('13', 0, 0), ('14', 23, 0)]), ('S.CHANDLER', [('13', 655, 2), ('14', 475, 3)]), ('S.JACKSON', [('13', 191, 1), ('14', 148, 0)]), ('M.WILLIAMS', [('13', 199, 1), ('14', 0, 0)]), ('T.CADET', [('13', 5, 1), ('14', 297, 1)]), ('C.HARPER', [('13', 0, 0), ('14', 0, 0)]), ('A.CLEVELAND', [('13', 0, 0), ('14', 0, 0)]), ('C.HOGAN', [('13', 83, 0), ('14', 409, 4), ('15', 448, 2)]), ('M.MITCHELL', [('13', 0, 0), ('14', 0, 0), ('15', 0, 0)]), ('M.BENNETT', [('13', 768, 6), ('14', 923, 5), ('15', 430, 3)]), ('J.DEVELIN', [('13', 62, 0), ('14', 43, 0), ('15', 0, 0)]), ('M.FLOYD', [('13', 1141, 4), ('14', 1670, 12), ('15', 1393, 9)]), ('M.LENGEL', [('13', 0, 0), ('14', 0, 0), ('15', 0, 0)]), ('R.BURKHEAD', [('13', 0, 0), ('14', 49, 0), ('15', 94, 1), ('16', 114, 0)]), ('B.COOKS', [('13', 0, 0), ('14', 550, 3), ('15', 1117, 10), ('16', 1038, 7)]), ('D.ALLEN', [('13', 20, 1), ('14', 393, 8), ('15', 109, 1), ('16', 371, 4)]), ('J.HOLLISTER', [('13', 0, 0), ('14', 0, 0), ('15', 0, 0), ('16', 0, 0)]), ('P.DORSETT', [('13', 0, 0), ('14', 0, 0), ('15', 197, 1), ('16', 473, 2)]), ('K.BRITT', [('13', 96, 0), ('14', 748, 3), ('15', 560, 2), ('16', 956, 5)]), ('M.GILLISLEE', [('13', 0, 0), ('14', 0, 0), ('15', 30, 1), ('16', 39, 1)]), ('B.BOLDEN', [('13', 141, 0), ('14', 8, 0), ('15', 175, 2), ('16', 15, 0), ('13', 141, 0), ('14', 8, 0), ('15', 175, 2), ('16', 15, 0), ('17', 7, 0), ('18', 13, 1)]), ('J.EDELMAN', [('13', 1045, 5), ('14', 922, 4), ('15', 651, 7), ('16', 919, 2), ('17', 0, 0)]), ('C.PATTERSON', [('13', 469, 4), ('14', 384, 1), ('15', 10, 0), ('16', 394, 1), ('17', 274, 0)]), ('J.GORDON', [('13', 1646, 9), ('14', 292, 0), ('15', 0, 0), ('16', 0, 0), ('17', 337, 2)]), ('S.MICHEL', [('13', 0, 0), ('14', 0, 0), ('15', 0, 0), ('16', 0, 0), ('17', 0, 0)]), ('J.HILL', [('13', 44, 1), ('14', 393, 5), ('15', 174, 3), ('16', 235, 0), ('17', 134, 1)]), ('N.HARRY', [('13', 0, 0), ('14', 0, 0), ('15', 0, 0), ('16', 0, 0), ('17', 0, 0), ('18', 0, 0)]), ('M.LACOSSE', [('13', 0, 0), ('14', 0, 0), ('15', 22, 0), ('16', 0, 0), ('17', 0, 0), ('18', 250, 1)]), ('M.SANU', [('13', 457, 2), ('14', 781, 5), ('15', 388, 0), ('16', 621, 3), ('17', 737, 6), ('18', 830, 4)]), ('B.WATSON', [('13', 226, 2), ('14', 136, 2), ('15', 767, 5), ('16', 0, 0), ('17', 520, 3), ('18', 408, 3)]), ('J.MEYERS', [('13', 0, 0), ('14', 0, 0), ('15', 0, 0), ('16', 0, 0), ('17', 0, 0), ('18', 0, 0)]), ('E.TOMLINSON', [('13', 0, 0), ('14', 0, 0), ('15', 0, 0), ('16', 0, 0), ('17', 121, 1), ('18', 61, 0)]), ('R.IZZO', [('13', 0, 0), ('14', 0, 0), ('15', 0, 0), ('16', 0, 0), ('17', 0, 0), ('18', 0, 0)]), ('K.JOHNSON', [('13', 0, 0), ('14', 0, 0), ('15', 0, 0), ('16', 0, 0), ('17', 0, 0), ('18', 213, 1)]), ('A.BROWN', [('13', 1515, 8), ('14', 1606, 12), ('15', 1695, 10), ('16', 1320, 10), ('17', 1983, 12), ('18', 1272, 15)]), ('G.OLSZEWSKI', [('13', 0, 0), ('14', 0, 0), ('15', 0, 0), ('16', 0, 0), ('17', 0, 0), ('18', 0, 0)])])\n",
      "Post\n",
      "dict_items([('S.VEREEN', [('15', 423, 4), ('16', 94, 0), ('17', 238, 0), ('18', 0, 0), ('19', 0, 0), ('20', 0, 0)]), ('K.THOMPKINS', [('15', 165, 0), ('16', 0, 0), ('17', 0, 0), ('18', 0, 0), ('19', 0, 0), ('20', 0, 0)]), ('T.WRIGHT', [('15', 68, 1), ('16', 0, 0), ('17', 0, 0), ('18', 0, 0), ('19', 0, 0), ('20', 0, 0)]), ('S.RIDLEY', [('15', -2, 0), ('16', 0, 0), ('17', 0, 0), ('18', 18, 0), ('19', 0, 0), ('20', 0, 0)]), ('T.BRADY', [('15', 0, 0), ('16', 205, 1), ('17', 0, 0), ('18', 41, 0), ('19', 0, 0), ('20', 100, 2), ('17', 0, 0), ('18', 41, 0), ('19', 0, 0), ('20', 100, 2), ('19', 0, 0), ('20', 100, 2)]), ('J.DEVELIN', [('15', 0, 0), ('16', 18, 0), ('17', 38, 0), ('18', 61, 0), ('19', 0, 0), ('20', 0, 0), ('19', 0, 0), ('20', 0, 0)]), ('M.HOOMANAWANUI', [('15', 76, 3), ('16', 0, 0), ('17', 52, 1), ('18', 0, 0), ('19', 0, 0), ('20', 0, 0)]), ('B.TYMS', [('15', 0, 0), ('16', 0, 0), ('17', 0, 0), ('18', 0, 0), ('19', 0, 0), ('20', 0, 0)]), ('J.GRAY', [('15', 72, 0), ('16', 0, 0), ('17', 0, 0), ('18', 0, 0), ('19', 0, 0), ('20', 0, 0)]), ('A.DOBSON', [('16', 0, 0), ('17', 0, 0), ('18', 0, 0), ('19', 0, 0), ('20', 0, 0)]), ('K.MARTIN', [('16', 0, 0), ('17', 0, 0), ('18', 0, 0), ('19', 0, 0), ('20', 0, 0)]), ('B.BOLDEN', [('16', 15, 0), ('17', 7, 0), ('18', 13, 1), ('19', 111, 1), ('20', 0, 0), ('18', 13, 1), ('19', 111, 1), ('20', 0, 0), ('20', 0, 0)]), ('S.CHANDLER', [('16', 0, 0), ('17', 0, 0), ('18', 0, 0), ('19', 0, 0), ('20', 0, 0)]), ('B.LAFELL', [('16', 795, 6), ('17', 548, 3), ('18', 135, 2), ('19', 0, 0), ('20', 0, 0)]), ('S.JACKSON', [('16', 0, 0), ('17', 0, 0), ('18', 0, 0), ('19', 0, 0), ('20', 0, 0)]), ('M.WILLIAMS', [('16', 0, 0), ('17', 211, 1), ('18', 800, 11), ('19', 1256, 4), ('20', 817, 6)]), ('T.CADET', [('16', 274, 3), ('17', 112, 0), ('18', 5, 0), ('19', 0, 0), ('20', 0, 0)]), ('C.HARPER', [('16', 108, 0), ('17', 0, 0), ('18', 0, 0), ('19', 0, 0), ('20', 0, 0)]), ('A.CLEVELAND', [('16', 0, 0), ('17', 0, 0), ('18', 0, 0), ('19', 0, 0), ('20', 0, 0)]), ('J.EDELMAN', [('17', 0, 0), ('18', 823, 6), ('19', 1089, 7), ('20', 315, 0), ('20', 315, 0)]), ('M.MITCHELL', [('17', 0, 0), ('18', 0, 0), ('19', 0, 0), ('20', 0, 0)]), ('M.FLOYD', [('17', 78, 0), ('18', 93, 0), ('19', 0, 0), ('20', 0, 0)]), ('L.BLOUNT', [('17', 50, 1), ('18', 67, 0), ('19', 0, 0), ('20', 0, 0)]), ('M.LENGEL', [('17', 0, 0), ('18', 17, 1), ('19', 0, 0), ('20', 0, 0)]), ('D.AMENDOLA', [('18', 565, 1), ('19', 662, 1), ('20', 564, 0)]), ('M.BENNETT', [('18', 0, 0), ('19', 0, 0), ('20', 0, 0)]), ('B.COOKS', [('18', 1170, 6), ('19', 480, 1), ('20', 1113, 6)]), ('D.LEWIS', [('18', 371, 1), ('19', 164, 1), ('20', 127, 1)]), ('K.BRITT', [('18', 0, 0), ('19', 0, 0), ('20', 0, 0)]), ('M.GILLISLEE', [('18', 9, 0), ('19', 0, 0), ('20', 0, 0)]), ('C.HOGAN', [('19', 47, 0), ('20', 118, 0)]), ('R.GRONKOWSKI', [('19', 0, 0), ('20', 596, 5)]), ('C.PATTERSON', [('19', 83, 0), ('20', 132, 0)]), ('D.ALLEN', [('19', 0, 0), ('20', 0, 0)]), ('J.HOLLISTER', [('19', 287, 3), ('20', 209, 3)]), ('J.HILL', [('19', 203, 3), ('20', 66, 1)]), ('N.HARRY', [('20', 296, 2)]), ('S.MICHEL', [('20', 114, 1)]), ('M.LACOSSE', [('20', 0, 0)]), ('R.BURKHEAD', [('20', 192, 3)]), ('M.SANU', [('20', 187, 1)]), ('J.WHITE', [('20', 375, 1)]), ('B.WATSON', [('20', 0, 0)]), ('P.DORSETT', [('20', 0, 0)]), ('J.MEYERS', [('20', 628, 0)]), ('E.TOMLINSON', [('20', 0, 0)]), ('R.IZZO', [('20', 199, 0)]), ('J.GORDON', [('20', 0, 0)]), ('K.JOHNSON', [('20', 380, 2)]), ('G.OLSZEWSKI', [('20', 67, 1)])])\n",
      "with\n",
      "[('D.AMENDOLA', [('13', 633, 2), ('14', 193, 1), ('15', 653, 3), ('16', 238, 4), ('17', 637, 2)]), ('J.EDELMAN', [('13', 1045, 5), ('14', 922, 4), ('15', 651, 7), ('16', 919, 2), ('18', 823, 6), ('19', 1089, 7)]), ('K.THOMPKINS', [('13', 440, 4), ('14', 262, 0)]), ('S.VEREEN', [('13', 426, 3), ('14', 471, 3)]), ('Z.SUDFELD', [('13', 38, 0)]), ('M.HOOMANAWANUI', [('13', 134, 1), ('14', 44, 0)]), ('A.DOBSON', [('13', 522, 4), ('14', 25, 0), ('15', 141, 0)]), ('J.DEVELIN', [('13', 62, 0), ('14', 43, 0), ('16', 18, 0), ('17', 38, 0), ('18', 61, 0)]), ('B.BOLDEN', [('13', 141, 0), ('14', 8, 0), ('15', 175, 2), ('17', 7, 0), ('19', 111, 1)]), ('S.RIDLEY', [('13', 63, 0), ('14', 20, 0)]), ('M.MULLIGAN', [('13', 16, 1)]), ('J.BOYCE', [('13', 121, 0)]), ('A.COLLIE', [('13', 63, 0)]), ('R.GRONKOWSKI', [('13', 573, 3), ('14', 1110, 12), ('15', 1131, 11), ('16', 528, 3), ('17', 1084, 8), ('18', 677, 3), ('20', 596, 5)]), ('S.PHILLIPS', [('13', -2, 0)]), ('L.BLOUNT', [('13', 38, 0), ('14', 54, 0), ('15', 43, 1), ('16', 38, 0)]), ('B.LAFELL', [('14', 911, 8), ('15', 491, 0)]), ('T.WRIGHT', [('14', 259, 6)]), ('T.BRADY', [('14', 109, 0), ('16', 205, 1), ('18', 41, 0), ('20', 100, 2)]), ('B.TYMS', [('14', 82, 1)]), ('J.GRAY', [('14', 7, 0)]), ('K.MARTIN', [('15', 265, 2)]), ('D.LEWIS', [('15', 370, 3), ('16', 87, 0), ('17', 218, 3)]), ('J.WHITE', [('15', 347, 4), ('16', 530, 5), ('17', 421, 3), ('18', 739, 7), ('19', 589, 5)]), ('S.CHANDLER', [('15', 259, 4)]), ('S.JACKSON', [('15', 0, 0)]), ('M.WILLIAMS', [('15', 241, 1)]), ('T.CADET', [('15', 137, 1)]), ('C.HARPER', [('15', 0, 0)]), ('A.CLEVELAND', [('15', 1, 0)]), ('C.HOGAN', [('16', 594, 4), ('17', 439, 5), ('18', 506, 3)]), ('M.MITCHELL', [('16', 391, 3)]), ('M.BENNETT', [('16', 572, 6), ('17', 287, 0)]), ('M.FLOYD', [('16', 452, 4)]), ('M.LENGEL', [('16', 18, 1)]), ('R.BURKHEAD', [('17', 241, 3), ('18', 131, 1), ('19', 196, 0)]), ('B.COOKS', [('17', 1082, 7)]), ('D.ALLEN', [('17', 86, 1), ('18', 27, 0)]), ('J.HOLLISTER', [('17', 42, 0), ('18', 52, 0)]), ('P.DORSETT', [('17', 194, 0), ('18', 290, 3), ('19', 347, 5)]), ('K.BRITT', [('17', 237, 1)]), ('M.GILLISLEE', [('17', 15, 0)]), ('C.PATTERSON', [('18', 248, 3)]), ('J.GORDON', [('18', 722, 4), ('19', 427, 1)]), ('S.MICHEL', [('18', 50, 0), ('19', 89, 0)]), ('J.HILL', [('18', 191, 1)]), ('N.HARRY', [('19', 55, 2)]), ('M.LACOSSE', [('19', 123, 0)]), ('M.SANU', [('19', 455, 2)]), ('B.WATSON', [('19', 148, 0)]), ('J.MEYERS', [('19', 334, 0)]), ('E.TOMLINSON', [('19', 1, 0)]), ('R.IZZO', [('19', 114, 1)]), ('K.JOHNSON', [('19', 313, 2)]), ('A.BROWN', [('19', 928, 7), ('20', 1514, 16)]), ('G.OLSZEWSKI', [('19', 34, 0)]), ('C.GODWIN', [('20', 737, 6)]), ('L.FOURNETTE', [('20', 233, 0)]), ('S.MILLER', [('20', 501, 3)]), ('T.JOHNSON', [('20', 425, 4)]), ('C.BRATE', [('20', 250, 2)]), ('M.EVANS', [('20', 986, 13)]), ('R.JONES', [('20', 148, 1)]), ('J.WATSON', [('20', 94, 0)]), ('O.HOWARD', [('20', 146, 2)]), ('L.MCCOY', [('20', 88, 0)]), ('K.VAUGHN', [('20', 33, 1)]), ('J.MICKENS', [('20', 47, 0)]), ('T.HUDSON', [('20', 32, 0)])]\n"
     ]
    }
   ],
   "source": [
    "print('pre')\n",
    "print(pre_brady.items())\n",
    "print('Post')\n",
    "print(post_brady.items())\n",
    "print('with')\n",
    "print(list(with_brady.items()))\n"
   ]
  },
  {
   "cell_type": "code",
   "execution_count": 254,
   "id": "414a2be5",
   "metadata": {},
   "outputs": [
    {
     "name": "stdout",
     "output_type": "stream",
     "text": [
      "           Name Bucket Year Yards TD\n",
      "163  D.AMENDOLA   With   13   633  2\n",
      "164  D.AMENDOLA   With   14   193  1\n",
      "165  D.AMENDOLA   With   15   653  3\n",
      "166  D.AMENDOLA   With   16   238  4\n",
      "167  D.AMENDOLA   With   17   637  2\n",
      "423  D.AMENDOLA   Post   18   565  1\n",
      "424  D.AMENDOLA   Post   19   662  1\n",
      "425  D.AMENDOLA   Post   20   564  0\n"
     ]
    }
   ],
   "source": [
    "players = pd.DataFrame(columns = ['Name', 'Bucket', 'Year', 'Yards', 'TD'])\n",
    "\n",
    "\n",
    "for key, value in pre_brady.items():\n",
    "    for x in range(len(value)):\n",
    "        players = players.append({'Name':key, 'Bucket':'Pre', 'Year':value[x][0], \\\n",
    "                                 'Yards':value[x][1], 'TD':value[x][2]}, ignore_index = True)\n",
    "\n",
    "for key, value in with_brady.items():\n",
    "    for x in range(len(value)):\n",
    "        players = players.append({'Name':key, 'Bucket':'With', 'Year':value[x][0], \\\n",
    "                                 'Yards':value[x][1], 'TD':value[x][2]}, ignore_index = True)\n",
    "\n",
    "for key, value in post_brady.items():\n",
    "    for x in range(len(value)):\n",
    "        players = players.append({'Name':key, 'Bucket':'Post', 'Year':value[x][0], \\\n",
    "                                 'Yards':value[x][1], 'TD':value[x][2]}, ignore_index = True)\n",
    "    \n",
    "\n",
    "    \n",
    "\n",
    "\n",
    "\n",
    "master = []\n",
    "for x in bins:\n",
    "    for s in x:\n",
    "        if s not in master:\n",
    "            master.append(s)\n",
    "\n",
    "\n",
    "players = players.sort_values(by = ['Name', 'Year'])\n",
    "print(players[players['Name'] == 'D.AMENDOLA'])\n"
   ]
  },
  {
   "cell_type": "code",
   "execution_count": null,
   "id": "8839e0f9",
   "metadata": {},
   "outputs": [],
   "source": []
  }
 ],
 "metadata": {
  "kernelspec": {
   "display_name": "Python 3",
   "language": "python",
   "name": "python3"
  },
  "language_info": {
   "codemirror_mode": {
    "name": "ipython",
    "version": 3
   },
   "file_extension": ".py",
   "mimetype": "text/x-python",
   "name": "python",
   "nbconvert_exporter": "python",
   "pygments_lexer": "ipython3",
   "version": "3.8.8"
  }
 },
 "nbformat": 4,
 "nbformat_minor": 5
}
