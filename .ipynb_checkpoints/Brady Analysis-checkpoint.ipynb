{
 "cells": [
  {
   "cell_type": "markdown",
   "id": "ccd31fb5",
   "metadata": {},
   "source": [
    "# **What makes Tom Brady so great?**\n",
    "\n",
    "Born Thomas Edward Patrick Brady, Jr on August 3rd, 1977 in San Mateo, CA, he was drafted 199th overall in the 2000 NFL Draft.  Current QB for the Tampa Bay Buccaneers, 7time Super Bowl Chamption, and 5-time Super Bowl MVP, there a few more divisive players in the NFL today than Tom Brady.\n",
    "\n",
    "By \"divisive\", I don't mean that roughly 50% of fans like Brady and the other half dont.  It's probably more skewed towards 20% loving Brady, and the other 80% absolutely hating his guts.  Many will claim that Brady only won because of favorable rule bending, being carried by his defense, or just outright cheating.  \n",
    "\n",
    "While I could go into the typical statistics such as QB-Rating, number of wins, completion percentages, etc., these analysis have been done before.  Not only that, but I believe that to be the GOAT, you need more than just impressive on-field stats.  A truly great QB would be able to elevate the players around him, and the goal of this project is to see if Brady (and others) were able to accomplish that.\n"
   ]
  },
  {
   "cell_type": "code",
   "execution_count": 48,
   "id": "64be3b10",
   "metadata": {},
   "outputs": [],
   "source": [
    "#import libraries\n",
    "import numpy as np\n",
    "import pandas as pd\n",
    "import re"
   ]
  },
  {
   "cell_type": "code",
   "execution_count": 49,
   "id": "97936093",
   "metadata": {},
   "outputs": [
    {
     "name": "stderr",
     "output_type": "stream",
     "text": [
      "/opt/anaconda3/lib/python3.8/site-packages/IPython/core/interactiveshell.py:3165: DtypeWarning: Columns (15,33) have mixed types.Specify dtype option on import or set low_memory=False.\n",
      "  has_raised = await self.run_ast_nodes(code_ast.body, cell_name,\n"
     ]
    }
   ],
   "source": [
    "#import data undo dataframes for each respective year\n",
    "#data is from NFLsavant.com\n",
    "df13 = pd.read_csv('pbp-2013.csv')\n",
    "df14 = pd.read_csv('pbp-2014.csv')\n",
    "df15 = pd.read_csv('pbp-2015.csv')\n",
    "df16 = pd.read_csv('pbp-2016.csv')\n",
    "df17 = pd.read_csv('pbp-2017.csv')\n",
    "df18 = pd.read_csv('pbp-2018.csv')\n",
    "df19 = pd.read_csv('pbp-2019.csv')\n",
    "df20 = pd.read_csv('pbp-2020.csv')"
   ]
  },
  {
   "cell_type": "markdown",
   "id": "20b1c41e",
   "metadata": {},
   "source": [
    "This is where a created a function to return a dataframe that contains all of the players that the given QB had completed a pass to for that given year.  The purpose was to quickly generate a list of names that have received a pass from Brady in each respective year."
   ]
  },
  {
   "cell_type": "code",
   "execution_count": 50,
   "id": "22c22592",
   "metadata": {},
   "outputs": [],
   "source": [
    "#create a function to find all players that the QB had completed a pass to for that year\n",
    "def name_bin(df, name):\n",
    "    df_bin = []\n",
    "    for x in df[(df['PlayType'] == 'PASS') & (df['IsIncomplete'] == 0)]['Description']:\n",
    "        if name in x:\n",
    "            x_re = re.compile(r'(\\w\\.\\w+)')\n",
    "            player = x_re.findall(x)\n",
    "            #print(player)\n",
    "            if player[1] not in df_bin:\n",
    "                df_bin.append(player[1])\n",
    "    return df_bin\n",
    "QB = 'T.BRADY'\n",
    "#create bins of players for each respective year\n",
    "bin_2013 = name_bin(df13, QB)\n",
    "bin_2014 = name_bin(df14, QB)\n",
    "bin_2015 = name_bin(df15, QB)\n",
    "bin_2016 = name_bin(df16, QB)\n",
    "bin_2017 = name_bin(df17, QB)\n",
    "bin_2018 = name_bin(df18, QB)\n",
    "bin_2019 = name_bin(df19, QB)\n",
    "bin_2020 = name_bin(df20, QB)\n"
   ]
  },
  {
   "cell_type": "markdown",
   "id": "08428475",
   "metadata": {},
   "source": [
    "Here I created a function that totals the yards and touchdowns for a player in the given dataframe year.  One important note is that all playoff games are emitted.  This is because it would be unfair to include these games for some players but not all.  If a player constantly made it to the playoffs, their total stats would obvisouly be higher than one who doesn't.  In the future, I would like to adjust the code so that it's on a per game basis rather than a yearly one.  \n",
    "\n",
    "It is also important to note that the last game of the season (week 17) is also emitted.  This was done because typically if a team is slated for the playoffs, they will rest the starters to avoid any injure risks.  The real reason this was done was because the week 17 game typically occurs in the next calendar year than the rest of the season, which made it difficult to only include the last game and exclude the post season."
   ]
  },
  {
   "cell_type": "code",
   "execution_count": 51,
   "id": "7fe96bdf",
   "metadata": {},
   "outputs": [],
   "source": [
    "#create a function to total yards and touchdown for the given year\n",
    "def get_stats(name, df, year):\n",
    "    year = str(year)\n",
    "    year = year[2:]\n",
    "    #print(year)\n",
    "    total_yards = 0\n",
    "    total_tds = 0\n",
    "    for index, x in df[(df['PlayType'] == 'PASS')  & \\\n",
    "                       (df['GameDate'].str.contains(str(year))) & (df['IsInterception'] == 0) \\\n",
    "                      & (df['IsIncomplete'] == 0) & (df['IsPenaltyAccepted'] == 0)].iterrows():\n",
    "                           \n",
    "        if name in x['Description']:\n",
    "            x_re = re.compile(r'(\\w\\.\\w+)')\n",
    "            player = x_re.findall(x['Description'])\n",
    "            if len(player) > 1:\n",
    "                if (name == player[1]):\n",
    "                    total_yards += x['Yards']\n",
    "                    total_tds += x['IsTouchdown']\n",
    "    return (year, total_yards, total_tds)\n",
    "\n",
    "#tested for d.amendola  \n",
    "#da_yr, da_yds, da_tds = get_stats('D.AMENDOLA', df20, 2020)\n",
    "#print(da_yr, da_yds, da_tds)\n",
    "            \n",
    "            "
   ]
  },
  {
   "cell_type": "code",
   "execution_count": 52,
   "id": "36db5a30",
   "metadata": {},
   "outputs": [],
   "source": [
    "#created empty bins for comparison later\n",
    "pre_brady = {}\n",
    "with_brady = {}\n",
    "post_brady = {}\n",
    "\n",
    "#created lists for easier loop access\n",
    "years = [2013, 2014, 2015, 2016, 2017, 2018, 2019, 2020]\n",
    "bins = [bin_2013, bin_2014, bin_2015, bin_2016, bin_2017, bin_2018, bin_2019, bin_2020]\n",
    "dfs = [df13, df14, df15, df16, df17, df18, df19, df20]\n",
    "\n",
    "\n"
   ]
  },
  {
   "cell_type": "markdown",
   "id": "0dab2251",
   "metadata": {},
   "source": [
    "This is where the magic happens.  For comparisions, we need data on a player before, while, and after they played with Brady.  Using the functions defined above, this loop accomplishes just that.  It goes through the bins created above, and gets the stats for each player for every year before, while, and after they played with Brady."
   ]
  },
  {
   "cell_type": "code",
   "execution_count": 53,
   "id": "2d4de7b5",
   "metadata": {},
   "outputs": [],
   "source": [
    "#create the initial bin\n",
    "for x in bin_2013:\n",
    "    if x not in with_brady.keys():\n",
    "        with_brady[x] = [get_stats(x, df13, 2013)]\n",
    "#print(list(with_brady.items()))\n",
    "#print(list(with_brady.keys()))"
   ]
  },
  {
   "cell_type": "code",
   "execution_count": 54,
   "id": "712c4d3b",
   "metadata": {},
   "outputs": [],
   "source": [
    " \n",
    "for s in range(1,len(bins)-1):\n",
    "    for name in bins[s]:\n",
    "        if name not in bins[s-1]:\n",
    "            if name not in pre_brady.keys():\n",
    "                pre_brady[name] = []\n",
    "            for y in range(0,s):\n",
    "                pre_brady[name] += [get_stats(name, dfs[y], years[y])]\n",
    "                   \n",
    "        if name not in bins[s+1]:\n",
    "            if name not in post_brady.keys():\n",
    "                post_brady[name] = []\n",
    "            for y in range(s+1,len(bins)):\n",
    "                post_brady[name] += [get_stats(name, dfs[y], years[y])]       \n",
    "                \n",
    "        if True:\n",
    "            if name not in with_brady.keys():\n",
    "                with_brady[name] = [get_stats(name, dfs[s], years[s])]\n",
    "            else:\n",
    "                with_brady[name] += [get_stats(name, dfs[s], years[s])]\n",
    "#create the final bin              \n",
    "for name in bin_2020:\n",
    "    if name not in bin_2019:\n",
    "        if name not in pre_brady.keys():\n",
    "            pre_brady[name] = []\n",
    "        for y in range(0,len(years)-1):\n",
    "            pre_brady[name] += [get_stats(name, dfs[y], years[y])]\n",
    "            \n",
    "    if name not in with_brady.keys():\n",
    "        with_brady[name] = [get_stats(name, df20, 2020)]\n",
    "    else:\n",
    "        with_brady[name] += [get_stats(name, df20, 2020)]\n",
    "        "
   ]
  },
  {
   "cell_type": "code",
   "execution_count": 55,
   "id": "2e88925c",
   "metadata": {},
   "outputs": [],
   "source": [
    "#Get rid of brady in the pre bin to avoid confusion\n",
    "pre_brady = {key:val for key, val in pre_brady.items() if key != QB}"
   ]
  },
  {
   "cell_type": "markdown",
   "id": "3aed8419",
   "metadata": {},
   "source": [
    "Next I wanted to have all of this data in an organzied, easy to read format.  The best way to accomplish that was using a pandas Data Frame, which also has the added benefit being easier to anaylze."
   ]
  },
  {
   "cell_type": "code",
   "execution_count": 56,
   "id": "414a2be5",
   "metadata": {},
   "outputs": [],
   "source": [
    "#Create an empty data frame to fill in with values from the above dictionaries\n",
    "players = pd.DataFrame(columns = ['Name', 'Bucket', 'Year', 'Yards', 'TD'])\n",
    "\n",
    "\n",
    "for key, value in pre_brady.items():\n",
    "    for x in range(len(value)):\n",
    "        players = players.append({'Name':key, 'Bucket':'Pre', 'Year':value[x][0], \\\n",
    "                                 'Yards':value[x][1], 'TD':value[x][2]}, ignore_index = True)\n",
    "\n",
    "for key, value in with_brady.items():\n",
    "    for x in range(len(value)):\n",
    "        players = players.append({'Name':key, 'Bucket':'With', 'Year':value[x][0], \\\n",
    "                                 'Yards':value[x][1], 'TD':value[x][2]}, ignore_index = True)\n",
    "\n",
    "for key, value in post_brady.items():\n",
    "    for x in range(len(value)):\n",
    "        players = players.append({'Name':key, 'Bucket':'Post', 'Year':value[x][0], \\\n",
    "                                 'Yards':value[x][1], 'TD':value[x][2]}, ignore_index = True)\n",
    "    \n",
    "\n",
    "players = players.sort_values(by = ['Name', 'Year'])\n",
    "#print(players[players['Name'] == 'M.EVANS'])\n"
   ]
  },
  {
   "cell_type": "markdown",
   "id": "3c2830b1",
   "metadata": {},
   "source": [
    "While the initial Dataframe did make things more organized and easier to look at, I realized what I really needed was the average of the players stats on a yearly basis.  From that, I would easily be able to determine if playing with Brady had any affect on the players performance.  A coule of things to note.  For a lot of players, there wasn't any data pre or post brady, which would heavly skew the improvement and regression data.  I did try to eliminate a lof of that, but there can still be situations where it occurs.  I also used fantasy football scoring metrics in order to condense everything into one number."
   ]
  },
  {
   "cell_type": "code",
   "execution_count": 57,
   "id": "229c83bf",
   "metadata": {},
   "outputs": [
    {
     "data": {
      "text/plain": [
       "\"\\nprint(avg_df[avg_df['Name'] == 'B.COOKS'])\\nprint(avg_df.head(30))\\nprint('---' * 20)\\n\\nprint(avg_df.sort_values(by = ['Improvement']).head())\\nprint('---' * 20)\\nprint(avg_df.sort_values(by = ['Regression']).head())\\n\\n\""
      ]
     },
     "execution_count": 57,
     "metadata": {},
     "output_type": "execute_result"
    }
   ],
   "source": [
    "#create a masterlist of all players who completed a pass with Brady\n",
    "master_list = []\n",
    "\n",
    "for x in bins:\n",
    "    for i in x:\n",
    "        if i not in master_list:\n",
    "            master_list.append(i)\n",
    "#create an empty dataframe to fill in with average values per year for each player and adjusted to become\n",
    "# a singular value based on fantasy football scoring metrics\n",
    "avg_df = pd.DataFrame(columns = ['Name', 'Pre', 'With', 'Post'])\n",
    "\n",
    "for x in master_list:\n",
    "    pdf = players[players['Name'] == x]\n",
    "    pre_df = pdf[pdf['Bucket'] == 'Pre']\n",
    "    pre_pts = 0\n",
    "    if len(pre_df) > 0:\n",
    "        pre_yds = pre_df['Yards'].mean() * 0.1\n",
    "        pre_tds = pre_df['TD'].mean() * 6\n",
    "        pre_pts += pre_yds + pre_tds\n",
    "        \n",
    "    with_df = pdf[pdf['Bucket'] == 'With']\n",
    "    with_pts = 0\n",
    "    if len(with_df) > 0:\n",
    "        with_yds = with_df['Yards'].mean() * 0.1\n",
    "        with_tds = with_df['TD'].mean() * 6\n",
    "        with_pts += with_yds + with_tds\n",
    "        \n",
    "    post_df = pdf[pdf['Bucket'] == 'Post']\n",
    "    post_pts = 0\n",
    "    if len(post_df) > 0:\n",
    "        post_yds = post_df['Yards'].mean() * 0.1\n",
    "        post_tds = post_df['TD'].mean() * 6\n",
    "        post_pts += post_yds + post_tds\n",
    "        \n",
    "    avg_df = avg_df.append({'Name':x, 'Pre':pre_pts, 'With':with_pts, 'Post':post_pts}, ignore_index = True)\n",
    "\n",
    "#add in two columns to see how much a player improved or regressed from playing with Brady            \n",
    "avg_df['Improvement'] = avg_df['With'] - avg_df['Pre']\n",
    "avg_df['Regression'] = avg_df['Post'] - avg_df['With']\n",
    "\n",
    "#created two lists for use in histograms later on\n",
    "improvements = []\n",
    "regressions = []\n",
    "\n",
    "#trying to get rid of outliers where there was no data or after playing with Brady\n",
    "for index, x in avg_df.iterrows():\n",
    "    if x['Improvement'] != x['With']:\n",
    "        improvements.append(x['Improvement'])\n",
    "    if abs(x['Regression']) != x['With']:\n",
    "        regressions.append(x['Regression'])\n",
    "\n",
    "'''\n",
    "print(avg_df[avg_df['Name'] == 'B.COOKS'])\n",
    "print(avg_df.head(30))\n",
    "print('---' * 20)\n",
    "\n",
    "print(avg_df.sort_values(by = ['Improvement']).head())\n",
    "print('---' * 20)\n",
    "print(avg_df.sort_values(by = ['Regression']).head())\n",
    "\n",
    "'''\n"
   ]
  },
  {
   "cell_type": "markdown",
   "id": "ebcaf951",
   "metadata": {},
   "source": [
    "While the dataframes do make everything nicer to look at, the best way to represent this data would be a histogram.  Then we could plainly see the distrubtion of improvements or regressions.  I was also able to determine the percentage of players who improved or regressed from playing with Brady.  The vertical blue line is set at 0 for easier interpretation."
   ]
  },
  {
   "cell_type": "code",
   "execution_count": 58,
   "id": "e3b57804",
   "metadata": {},
   "outputs": [
    {
     "name": "stdout",
     "output_type": "stream",
     "text": [
      "Improvements: 60.47 %\n",
      "------------------------------\n",
      "Regressions: 61.11 %\n"
     ]
    },
    {
     "data": {
      "image/png": "[encoded data removed]",
      "text/plain": [
       "<Figure size 576x432 with 2 Axes>"
      ]
     },
     "metadata": {
      "needs_background": "light"
     },
     "output_type": "display_data"
    },
    {
     "name": "stdout",
     "output_type": "stream",
     "text": [
      "(array([1, 0, 0, 0, 0, 0, 0, 0, 0, 1, 3, 3, 3, 1, 5, 8, 4, 5, 1, 2, 1, 1,\n",
      "       1, 2, 1]), array([-120.93333333, -112.8892    , -104.84506667,  -96.80093333,\n",
      "        -88.7568    ,  -80.71266667,  -72.66853333,  -64.6244    ,\n",
      "        -56.58026667,  -48.53613333,  -40.492     ,  -32.44786667,\n",
      "        -24.40373333,  -16.3596    ,   -8.31546667,   -0.27133333,\n",
      "          7.7728    ,   15.81693333,   23.86106667,   31.9052    ,\n",
      "         39.94933333,   47.99346667,   56.0376    ,   64.08173333,\n",
      "         72.12586667,   80.17      ]))\n",
      "(array([1, 2, 1, 1, 1, 2, 0, 2, 2, 0, 0, 0, 4, 6, 6, 2, 2, 0, 1, 1, 0, 1,\n",
      "       0, 0, 1]), array([-75.18571429, -69.85908571, -64.53245714, -59.20582857,\n",
      "       -53.8792    , -48.55257143, -43.22594286, -37.89931429,\n",
      "       -32.57268571, -27.24605714, -21.91942857, -16.5928    ,\n",
      "       -11.26617143,  -5.93954286,  -0.61291429,   4.71371429,\n",
      "        10.04034286,  15.36697143,  20.6936    ,  26.02022857,\n",
      "        31.34685714,  36.67348571,  42.00011429,  47.32674286,\n",
      "        52.65337143,  57.98      ]))\n"
     ]
    }
   ],
   "source": [
    "import matplotlib.pyplot as plt\n",
    "\n",
    "#print(improvements)\n",
    "imp_count = 0\n",
    "for x in improvements:\n",
    "    if x > 0:\n",
    "        imp_count += 1\n",
    "#print(imp_count)\n",
    "#print(len(improvements))\n",
    "print('Improvements:', round((imp_count / len(improvements))*100, 2), '%')\n",
    "print('---'*10)\n",
    "#print(regressions)\n",
    "reg_count = 0\n",
    "for x in regressions:\n",
    "    if x < 0:\n",
    "        reg_count += 1\n",
    "#print(reg_count)\n",
    "#print(len(regressions))\n",
    "print('Regressions:', round((reg_count / len(regressions))*100, 2), '%')\n",
    "\n",
    "\n",
    "fig = plt.figure(figsize=(8, 6)) \n",
    "\n",
    "plt.figure(1)\n",
    "\n",
    "\n",
    "plt.subplot(121)\n",
    "\n",
    "plt.hist(improvements, bins = 25)\n",
    "plt.axvline(x=0, color='b', label='avline')\n",
    "plt.title('Improvements')\n",
    "plt.xlabel('Points')\n",
    "plt.ylabel('Count')\n",
    "\n",
    "plt.subplot(122)\n",
    "\n",
    "plt.hist(regressions, bins = 25)\n",
    "\n",
    "plt.axvline(x=0, color='b', label='avline')\n",
    "plt.title('Regressions')\n",
    "plt.xlabel('Points')\n",
    "plt.ylabel('Count')\n",
    "plt.show()\n",
    "\n",
    "print(np.histogram(improvements, bins = 25))\n",
    "print(np.histogram(regressions, bins = 25))"
   ]
  },
  {
   "cell_type": "markdown",
   "id": "6026cdac",
   "metadata": {},
   "source": [
    "Here the results shows that overall, 60.47% of players who played with Brady had an improvement from their previous team.  The most frequent occurences of improvement were between -0.27 and 7.78.  So while players did improve while playing with Brady, I'm not so sure that it's a significant enough difference to make a bold claim.\n",
    "\n",
    "For regressions, the results show that 61% of players did worse when they stopped playing with Brady.  The most frequent occurences of regression were between -5.92 though -0.6, and -0.6 through 4.7. While there may be a correlation that Brady does elevate the players around him, there are probably dozens of other variables that aren't accounted for in this project.  \n",
    "\n",
    "It's important to note that regression was calculated by subtracting their stats with Brady from their stats after playing with Brady.  A negative regression indicates that the player was worse after leaving Brady."
   ]
  },
  {
   "cell_type": "markdown",
   "id": "528e7203",
   "metadata": {},
   "source": [
    "Let's compare these results to another great QB, Aaron Rodgers.\n",
    "\n",
    "![Rodgers](Rodgers.png)\n",
    "\n",
    "His results showed that 52.63% of players had improved from playing with Rodgers, and 77.78% regressed afterwards.  What's interesting is the distribution of the improvements.  While Brady's tended to be more frequent around the center, Rodgers appears to not follow a similiar pattern."
   ]
  },
  {
   "cell_type": "markdown",
   "id": "9da534f3",
   "metadata": {},
   "source": [
    "Lastly, lets try one more great QB, Drew Brees.\n",
    "![Brees](Brees.png)\n",
    "His results shows that 51.85% of players improved with Brees, while 73.68% of players regressed after playing with Brees.  The most frequent improvements was between 0.66 through 10.20.  This was actually both higher in magnititude and frequency than Brady."
   ]
  },
  {
   "cell_type": "code",
   "execution_count": null,
   "id": "a1f287d8",
   "metadata": {},
   "outputs": [],
   "source": []
  }
 ],
 "metadata": {
  "kernelspec": {
   "display_name": "Python 3",
   "language": "python",
   "name": "python3"
  },
  "language_info": {
   "codemirror_mode": {
    "name": "ipython",
    "version": 3
   },
   "file_extension": ".py",
   "mimetype": "text/x-python",
   "name": "python",
   "nbconvert_exporter": "python",
   "pygments_lexer": "ipython3",
   "version": "3.8.8"
  }
 },
 "nbformat": 4,
 "nbformat_minor": 5
}
