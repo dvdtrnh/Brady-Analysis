{
 "cells": [
  {
   "cell_type": "markdown",
   "id": "ccd31fb5",
   "metadata": {},
   "source": [
    "# **Brady Analysis**\n",
    "\n",
    "The point of this exercise to to analyze past nfl data and see if brady elevated his players or not. this is done by first creating a baseline of the player with brady, and how he did without."
   ]
  },
  {
   "cell_type": "code",
   "execution_count": 423,
   "id": "64be3b10",
   "metadata": {},
   "outputs": [],
   "source": [
    "#import libraries\n",
    "import numpy as np\n",
    "import pandas as pd\n",
    "import re"
   ]
  },
  {
   "cell_type": "code",
   "execution_count": 424,
   "id": "97936093",
   "metadata": {},
   "outputs": [
    {
     "name": "stderr",
     "output_type": "stream",
     "text": [
      "/opt/anaconda3/lib/python3.8/site-packages/IPython/core/interactiveshell.py:3165: DtypeWarning: Columns (15,33) have mixed types.Specify dtype option on import or set low_memory=False.\n",
      "  has_raised = await self.run_ast_nodes(code_ast.body, cell_name,\n"
     ]
    }
   ],
   "source": [
    "#import data undo dataframes for each respective year\n",
    "#data is from NFLsavant.com\n",
    "df13 = pd.read_csv('pbp-2013.csv')\n",
    "df14 = pd.read_csv('pbp-2014.csv')\n",
    "df15 = pd.read_csv('pbp-2015.csv')\n",
    "df16 = pd.read_csv('pbp-2016.csv')\n",
    "df17 = pd.read_csv('pbp-2017.csv')\n",
    "df18 = pd.read_csv('pbp-2018.csv')\n",
    "df19 = pd.read_csv('pbp-2019.csv')\n",
    "df20 = pd.read_csv('pbp-2020.csv')"
   ]
  },
  {
   "cell_type": "code",
   "execution_count": 425,
   "id": "22c22592",
   "metadata": {},
   "outputs": [],
   "source": [
    "#create a function to find all players associated with the QB per year\n",
    "def name_bin(df, name):\n",
    "    df_bin = []\n",
    "    for x in df[(df['PlayType'] == 'PASS') & (df['IsIncomplete'] == 0)]['Description']:\n",
    "        if name in x:\n",
    "            x_re = re.compile(r'(\\w\\.\\w+)')\n",
    "            player = x_re.findall(x)\n",
    "            #print(player)\n",
    "            if player[1] not in df_bin:\n",
    "                df_bin.append(player[1])\n",
    "    return df_bin\n",
    "QB = 'T.BRADY'\n",
    "#create bins of players for each respective year\n",
    "bin_2013 = name_bin(df13, QB)\n",
    "bin_2014 = name_bin(df14, QB)\n",
    "bin_2015 = name_bin(df15, QB)\n",
    "bin_2016 = name_bin(df16, QB)\n",
    "bin_2017 = name_bin(df17, QB)\n",
    "bin_2018 = name_bin(df18, QB)\n",
    "bin_2019 = name_bin(df19, QB)\n",
    "bin_2020 = name_bin(df20, QB)\n"
   ]
  },
  {
   "cell_type": "code",
   "execution_count": 426,
   "id": "7fe96bdf",
   "metadata": {},
   "outputs": [
    {
     "name": "stdout",
     "output_type": "stream",
     "text": [
      "20 986 13\n"
     ]
    }
   ],
   "source": [
    "#create a function to total yards and touchdown for the given year\n",
    "def get_stats(name, df, year):\n",
    "    year = str(year)\n",
    "    year = year[2:]\n",
    "    #print(year)\n",
    "    total_yards = 0\n",
    "    total_tds = 0\n",
    "    for index, x in df[(df['PlayType'] == 'PASS')  & \\\n",
    "                       (df['GameDate'].str.contains(str(year))) & (df['IsInterception'] == 0) \\\n",
    "                      & (df['IsIncomplete'] == 0) & (df['IsPenaltyAccepted'] == 0)].iterrows():\n",
    "                           \n",
    "        if name in x['Description']:\n",
    "            x_re = re.compile(r'(\\w\\.\\w+)')\n",
    "            player = x_re.findall(x['Description'])\n",
    "            if len(player) > 1:\n",
    "                if (name == player[1]):\n",
    "                    total_yards += x['Yards']\n",
    "                    total_tds += x['IsTouchdown']\n",
    "    return (year, total_yards, total_tds)\n",
    "\n",
    "#tested for d.amendola  \n",
    "da_yr, da_yds, da_tds = get_stats('M.EVANS', df20, 2020)\n",
    "print(da_yr, da_yds, da_tds)\n",
    "            \n",
    "            "
   ]
  },
  {
   "cell_type": "code",
   "execution_count": 427,
   "id": "d7e7a350",
   "metadata": {},
   "outputs": [
    {
     "name": "stderr",
     "output_type": "stream",
     "text": [
      "<ipython-input-427-59d5565a8341>:1: UserWarning: Boolean Series key will be reindexed to match DataFrame index.\n",
      "  da_test = df19[(df13['PlayType'] == 'PASS') & (df19['Description'].str.contains('A.BROWN'))]\n"
     ]
    }
   ],
   "source": [
    "da_test = df19[(df13['PlayType'] == 'PASS') & (df19['Description'].str.contains('A.BROWN'))]\n",
    "da_test.to_csv('datest.csv')"
   ]
  },
  {
   "cell_type": "code",
   "execution_count": 428,
   "id": "36db5a30",
   "metadata": {},
   "outputs": [],
   "source": [
    "#created empty bins for comparison later\n",
    "pre_brady = {}\n",
    "with_brady = {}\n",
    "post_brady = {}\n",
    "\n",
    "#created lists for easier loop access\n",
    "years = [2013, 2014, 2015, 2016, 2017, 2018, 2019, 2020]\n",
    "bins = [bin_2013, bin_2014, bin_2015, bin_2016, bin_2017, bin_2018, bin_2019, bin_2020]\n",
    "dfs = [df13, df14, df15, df16, df17, df18, df19, df20]\n",
    "\n",
    "\n"
   ]
  },
  {
   "cell_type": "code",
   "execution_count": 429,
   "id": "2d4de7b5",
   "metadata": {},
   "outputs": [],
   "source": [
    "#create the initial bin\n",
    "for x in bin_2013:\n",
    "    if x not in with_brady.keys():\n",
    "        with_brady[x] = [get_stats(x, df13, 2013)]\n",
    "#print(list(with_brady.items()))\n",
    "#print(list(with_brady.keys()))"
   ]
  },
  {
   "cell_type": "markdown",
   "id": "ec0af217",
   "metadata": {},
   "source": [
    "for s in range(1,3):\n",
    "    for name in bins[s]:\n",
    "        if name not in bins[s-1]:\n",
    "            if name not in pre_brady.keys():\n",
    "                pre_brady[name] = [get_stats(name, dfs[s], years[s])]\n",
    "            else:\n",
    "                pre_brady[name] += [get_stats(name, dfs[s], years[s])]\n",
    "        elif name not in bins[s+1]:\n",
    "            if name not in post_brady.keys():\n",
    "                post_brady[name] = [get_stats(name, dfs[s], years[s])]\n",
    "            else:\n",
    "                post_brady[name] += [get_stats(name, dfs[s], years[s])]\n",
    "        else:\n",
    "            if name not in with_brady.keys():\n",
    "                with_brady[name] = [get_stats(name, dfs[s], years[s])]\n",
    "            else:\n",
    "                with_brady[name] += [get_stats(name, dfs[s], years[s])]\n",
    "        "
   ]
  },
  {
   "cell_type": "code",
   "execution_count": 430,
   "id": "712c4d3b",
   "metadata": {},
   "outputs": [],
   "source": [
    "for s in range(1,len(bins)-1):\n",
    "    for name in bins[s]:\n",
    "        if name not in bins[s-1]:\n",
    "            if name not in pre_brady.keys():\n",
    "                pre_brady[name] = []\n",
    "            for y in range(0,s):\n",
    "                pre_brady[name] += [get_stats(name, dfs[y], years[y])]\n",
    "                   \n",
    "        if name not in bins[s+1]:\n",
    "            if name not in post_brady.keys():\n",
    "                post_brady[name] = []\n",
    "            for y in range(s+1,len(bins)):\n",
    "                post_brady[name] += [get_stats(name, dfs[y], years[y])]       \n",
    "                \n",
    "        if True:\n",
    "            if name not in with_brady.keys():\n",
    "                with_brady[name] = [get_stats(name, dfs[s], years[s])]\n",
    "            else:\n",
    "                with_brady[name] += [get_stats(name, dfs[s], years[s])]\n",
    "#create the final bin              \n",
    "for name in bin_2020:\n",
    "    if name not in bin_2019:\n",
    "        if name not in pre_brady.keys():\n",
    "            pre_brady[name] = []\n",
    "        for y in range(0,len(years)-1):\n",
    "            pre_brady[name] += [get_stats(name, dfs[y], years[y])]\n",
    "            \n",
    "    if name not in with_brady.keys():\n",
    "        with_brady[name] = [get_stats(name, df20, 2020)]\n",
    "    else:\n",
    "        with_brady[name] += [get_stats(name, df20, 2020)]\n",
    "        "
   ]
  },
  {
   "cell_type": "code",
   "execution_count": 431,
   "id": "2e88925c",
   "metadata": {},
   "outputs": [],
   "source": [
    "#Get rid of brady in the pre bin to avoid confusion\n",
    "pre_brady = {key:val for key, val in pre_brady.items() if key != QB}"
   ]
  },
  {
   "cell_type": "markdown",
   "id": "d0aa2433",
   "metadata": {},
   "source": [
    "print('pre')\n",
    "print(pre_brady.items())\n",
    "print('Post')\n",
    "print(post_brady.items())\n",
    "print('with')\n",
    "print(list(with_brady.items()))\n"
   ]
  },
  {
   "cell_type": "code",
   "execution_count": 432,
   "id": "414a2be5",
   "metadata": {},
   "outputs": [
    {
     "name": "stdout",
     "output_type": "stream",
     "text": [
      "        Name Bucket Year Yards  TD\n",
      "205  M.EVANS    Pre   13     0   0\n",
      "206  M.EVANS    Pre   14   946   9\n",
      "207  M.EVANS    Pre   15  1022   3\n",
      "208  M.EVANS    Pre   16  1238  11\n",
      "209  M.EVANS    Pre   17   923   6\n",
      "210  M.EVANS    Pre   18  1414   8\n",
      "211  M.EVANS    Pre   19  1131   8\n",
      "376  M.EVANS   With   20   986  13\n"
     ]
    }
   ],
   "source": [
    "players = pd.DataFrame(columns = ['Name', 'Bucket', 'Year', 'Yards', 'TD'])\n",
    "\n",
    "\n",
    "for key, value in pre_brady.items():\n",
    "    for x in range(len(value)):\n",
    "        players = players.append({'Name':key, 'Bucket':'Pre', 'Year':value[x][0], \\\n",
    "                                 'Yards':value[x][1], 'TD':value[x][2]}, ignore_index = True)\n",
    "\n",
    "for key, value in with_brady.items():\n",
    "    for x in range(len(value)):\n",
    "        players = players.append({'Name':key, 'Bucket':'With', 'Year':value[x][0], \\\n",
    "                                 'Yards':value[x][1], 'TD':value[x][2]}, ignore_index = True)\n",
    "\n",
    "for key, value in post_brady.items():\n",
    "    for x in range(len(value)):\n",
    "        players = players.append({'Name':key, 'Bucket':'Post', 'Year':value[x][0], \\\n",
    "                                 'Yards':value[x][1], 'TD':value[x][2]}, ignore_index = True)\n",
    "    \n",
    "\n",
    "    \n",
    "\n",
    "\n",
    "\n",
    "\n",
    "\n",
    "\n",
    "players = players.sort_values(by = ['Name', 'Year'])\n",
    "print(players[players['Name'] == 'M.EVANS'])\n"
   ]
  },
  {
   "cell_type": "code",
   "execution_count": 433,
   "id": "8839e0f9",
   "metadata": {},
   "outputs": [
    {
     "name": "stdout",
     "output_type": "stream",
     "text": [
      "final\n",
      "              Name Bucket       Yards        TD\n",
      "0       D.AMENDOLA   With  470.800000  2.400000\n",
      "1       D.AMENDOLA   Post  597.000000  0.666667\n",
      "2        J.EDELMAN    Pre  707.400000  3.600000\n",
      "3        J.EDELMAN   With  908.166667  5.166667\n",
      "4        J.EDELMAN   Post  508.400000  2.600000\n",
      "5      K.THOMPKINS   With  351.000000  2.000000\n",
      "6      K.THOMPKINS   Post   27.500000  0.000000\n",
      "7         S.VEREEN   With  448.500000  3.000000\n",
      "8         S.VEREEN   Post  125.833333  0.666667\n",
      "9   M.HOOMANAWANUI   With   89.000000  0.500000\n",
      "10  M.HOOMANAWANUI   Post   21.333333  0.666667\n",
      "11        A.DOBSON   With  229.333333  1.333333\n",
      "12        A.DOBSON   Post    0.000000  0.000000\n",
      "13       J.DEVELIN    Pre   35.000000  0.000000\n",
      "14       J.DEVELIN   With   44.400000  0.000000\n",
      "15       J.DEVELIN   Post   14.625000  0.000000\n",
      "16        B.BOLDEN    Pre   69.800000  0.500000\n",
      "17        B.BOLDEN   With   88.400000  0.600000\n",
      "18        B.BOLDEN   Post   30.000000  0.444444\n",
      "19        S.RIDLEY   With   41.500000  0.000000\n",
      "20        S.RIDLEY   Post    2.666667  0.000000\n",
      "21    R.GRONKOWSKI    Pre  729.000000  5.714286\n",
      "22    R.GRONKOWSKI   With  814.142857  6.428571\n",
      "23    R.GRONKOWSKI   Post  298.000000  2.500000\n",
      "24        L.BLOUNT   With   43.250000  0.250000\n"
     ]
    }
   ],
   "source": [
    "master_list = []\n",
    "\n",
    "for x in bins:\n",
    "    for i in x:\n",
    "        if i not in master_list:\n",
    "            master_list.append(i)\n",
    "            \n",
    "avg_df = pd.DataFrame(columns = ['Name', 'Bucket', 'Yards', 'TD'])\n",
    "\n",
    "for x in master_list:\n",
    "    pdf = players[players['Name'] == x]\n",
    "    #print(pdf.head())\n",
    "    for s in ['Pre', 'With', 'Post']:    \n",
    "        bdf = pdf[pdf['Bucket'] == s]\n",
    "        if len(bdf) > 1:\n",
    "            avg_yds = bdf['Yards'].mean()\n",
    "            avg_tds = bdf['TD'].mean()\n",
    "            avg_df = avg_df.append({'Name':x, 'Bucket':s, 'Yards':avg_yds, 'TD':avg_tds}, ignore_index = True)\n",
    "\n",
    "            \n",
    "print('final')\n",
    "print(avg_df.head(25))\n",
    "        \n",
    "    "
   ]
  },
  {
   "cell_type": "code",
   "execution_count": 434,
   "id": "e5ca3a41",
   "metadata": {},
   "outputs": [
    {
     "name": "stdout",
     "output_type": "stream",
     "text": [
      "       Name     Pre   With   Post Improvement  Regression\n",
      "36  B.COOKS  97.625  150.2  118.1      52.575       -32.1\n",
      "              Name         Pre        With       Post Improvement  Regression\n",
      "0       D.AMENDOLA           0   61.480000  63.700000       61.48    2.220000\n",
      "1        J.EDELMAN       92.34  121.816667  66.440000   29.476667  -55.376667\n",
      "2      K.THOMPKINS           0   47.100000   2.750000        47.1  -44.350000\n",
      "3         S.VEREEN           0   62.850000  16.583333       62.85  -46.266667\n",
      "4        Z.SUDFELD           0    3.800000   0.000000         3.8   -3.800000\n",
      "5   M.HOOMANAWANUI           0   11.900000   6.133333        11.9   -5.766667\n",
      "6         A.DOBSON           0   30.933333   0.000000   30.933333  -30.933333\n",
      "7        J.DEVELIN         3.5    4.440000   1.462500        0.94   -2.977500\n",
      "8         B.BOLDEN        9.98   12.440000   5.666667        2.46   -6.773333\n",
      "9         S.RIDLEY           0    4.150000   0.266667        4.15   -3.883333\n",
      "10      M.MULLIGAN           0    7.600000   0.000000         7.6   -7.600000\n",
      "11         J.BOYCE           0   12.100000   0.000000        12.1  -12.100000\n",
      "12        A.COLLIE           0    6.300000   0.000000         6.3   -6.300000\n",
      "13    R.GRONKOWSKI  107.185714  119.985714  44.800000        12.8  -75.185714\n",
      "14      S.PHILLIPS           0   -0.200000   0.000000        -0.2    0.200000\n",
      "15        L.BLOUNT           0    5.825000   4.425000       5.825   -1.400000\n",
      "16        B.LAFELL        92.0   94.100000  42.760000         2.1  -51.340000\n",
      "17        T.WRIGHT        81.7   61.900000   2.133333       -19.8  -59.766667\n",
      "18         T.BRADY           0   15.875000   8.391667      15.875   -7.483333\n",
      "19          B.TYMS         1.2   14.200000   0.000000        13.0  -14.200000\n",
      "20          J.GRAY         0.0    0.700000   1.200000         0.7    0.500000\n",
      "21        K.MARTIN       22.55   38.500000   0.000000       15.95  -38.500000\n",
      "22         D.LEWIS         0.0   34.500000  28.066667        34.5   -6.433333\n",
      "23         J.WHITE        1.15   81.320000  43.500000       80.17  -37.820000\n",
      "24      S.CHANDLER        71.5   49.900000   0.000000       -21.6  -49.900000\n",
      "25       S.JACKSON       19.95    0.000000   0.000000      -19.95    0.000000\n",
      "26      M.WILLIAMS       12.95   30.100000  88.080000       17.15   57.980000\n",
      "27         T.CADET        21.1   19.700000  11.420000        -1.4   -8.280000\n",
      "28        C.HARPER         0.0    0.000000   2.160000         0.0    2.160000\n",
      "29     A.CLEVELAND         0.0    0.100000   0.000000         0.1   -0.100000\n",
      "------------------------------------------------------------\n",
      "         Name         Pre   With   Post Improvement  Regression\n",
      "33    M.FLOYD  190.133333  69.20  4.275 -120.933333     -64.925\n",
      "40    K.BRITT        74.0  29.70  0.000       -44.3     -29.700\n",
      "32  M.BENNETT        98.7  60.95  0.000      -37.75     -60.950\n",
      "37    D.ALLEN      43.325   8.65  0.000     -34.675      -8.650\n",
      "49   B.WATSON   49.283333  14.80  0.000  -34.483333     -14.800\n",
      "------------------------------------------------------------\n",
      "            Name         Pre        With  Post Improvement  Regression\n",
      "54       A.BROWN  223.516667  191.100000   0.0  -32.416667 -191.100000\n",
      "61       M.EVANS  133.914286  176.600000   0.0   42.685714 -176.600000\n",
      "56      C.GODWIN   52.914286  109.700000   0.0   56.785714 -109.700000\n",
      "13  R.GRONKOWSKI  107.185714  119.985714  44.8        12.8  -75.185714\n",
      "43      J.GORDON        58.7   72.450000   0.0       13.75  -72.450000\n"
     ]
    }
   ],
   "source": [
    "master_list = []\n",
    "\n",
    "for x in bins:\n",
    "    for i in x:\n",
    "        if i not in master_list:\n",
    "            master_list.append(i)\n",
    "            \n",
    "avg_df = pd.DataFrame(columns = ['Name', 'Pre', 'With', 'Post'])\n",
    "\n",
    "for x in master_list:\n",
    "    pdf = players[players['Name'] == x]\n",
    "    pre_df = pdf[pdf['Bucket'] == 'Pre']\n",
    "    pre_pts = 0\n",
    "    if len(pre_df) > 0:\n",
    "        pre_yds = pre_df['Yards'].mean() * 0.1\n",
    "        pre_tds = pre_df['TD'].mean() * 6\n",
    "        pre_pts += pre_yds + pre_tds\n",
    "        \n",
    "    with_df = pdf[pdf['Bucket'] == 'With']\n",
    "    with_pts = 0\n",
    "    if len(with_df) > 0:\n",
    "        with_yds = with_df['Yards'].mean() * 0.1\n",
    "        with_tds = with_df['TD'].mean() * 6\n",
    "        with_pts += with_yds + with_tds\n",
    "        \n",
    "    post_df = pdf[pdf['Bucket'] == 'Post']\n",
    "    post_pts = 0\n",
    "    if len(post_df) > 0:\n",
    "        post_yds = post_df['Yards'].mean() * 0.1\n",
    "        post_tds = post_df['TD'].mean() * 6\n",
    "        post_pts += post_yds + post_tds\n",
    "        \n",
    "    avg_df = avg_df.append({'Name':x, 'Pre':pre_pts, 'With':with_pts, 'Post':post_pts}, ignore_index = True)\n",
    "\n",
    "            \n",
    "avg_df['Improvement'] = avg_df['With'] - avg_df['Pre']\n",
    "avg_df['Regression'] = avg_df['Post'] - avg_df['With']\n",
    "\n",
    "improvements = []\n",
    "regressions = []\n",
    "\n",
    "for index, x in avg_df.iterrows():\n",
    "    if x['Improvement'] != x['With']:\n",
    "        improvements.append(x['Improvement'])\n",
    "    if abs(x['Regression']) != x['With']:\n",
    "        regressions.append(x['Regression'])\n",
    "\n",
    "print(avg_df[avg_df['Name'] == 'B.COOKS'])\n",
    "print(avg_df.head(30))\n",
    "print('---' * 20)\n",
    "\n",
    "print(avg_df.sort_values(by = ['Improvement']).head())\n",
    "print('---' * 20)\n",
    "print(avg_df.sort_values(by = ['Regression']).head())\n",
    "        \n",
    "#gronk proving to be an issue for some reason\n",
    "\n"
   ]
  },
  {
   "cell_type": "code",
   "execution_count": 435,
   "id": "84f5a3e5",
   "metadata": {},
   "outputs": [
    {
     "name": "stdout",
     "output_type": "stream",
     "text": [
      "[29.47666666666666, 0.9400000000000004, 2.460000000000001, 12.799999999999997, 2.1000000000000085, -19.799999999999997, 13.0, 15.95, 80.17, -21.599999999999994, -19.95, 17.15, -1.3999999999999986, 31.966666666666683, -37.75, -120.93333333333332, 19.008333333333333, 52.57499999999999, -34.675000000000004, 22.450000000000003, -44.3, -3.2249999999999996, 4.979999999999997, 13.75, -6.5, 6.766666666666667, -26.066666666666663, -34.483333333333334, -3.933333333333333, 38.75, -32.41666666666666, 56.785714285714285, 7.914285714285715, 65.18571428571428, 64.94285714285714, -15.157142857142858, 42.68571428571431, 16.514285714285716, 7.2, -6.100000000000001, -28.057142857142853, 1.8857142857142861, 3.028571428571429]\n",
      "------------------------------\n",
      "[2.219999999999999, -55.376666666666665, -44.35, -46.266666666666666, -5.7666666666666675, -2.9775, -6.773333333333335, -3.8833333333333337, -75.18571428571428, 0.2, -1.3999999999999995, -51.34, -59.76666666666667, -7.483333333333334, 0.5000000000000001, -6.433333333333334, -37.82000000000001, 57.98, -8.280000000000003, 2.16, -67.05000000000001, -64.925, -5.875, 10.26666666666667, -32.09999999999998, 38.099999999999994, -1.2, -32.05, 10.45, 0.3500000000000014, 24.1, -32.8, 29.400000000000006, 2.5000000000000036, 6.700000000000003, 9.299999999999999]\n"
     ]
    },
    {
     "data": {
      "image/png": "[encoded data removed]",
      "text/plain": [
       "<Figure size 576x432 with 2 Axes>"
      ]
     },
     "metadata": {
      "needs_background": "light"
     },
     "output_type": "display_data"
    }
   ],
   "source": [
    "import matplotlib.pyplot as plt\n",
    "\n",
    "print(improvements)\n",
    "print('---'*10)\n",
    "print(regressions)\n",
    "\n",
    "fig = plt.figure(figsize=(8, 6)) \n",
    "\n",
    "plt.figure(1)\n",
    "\n",
    "\n",
    "plt.subplot(121)\n",
    "\n",
    "plt.hist(improvements, bins = 20)\n",
    "plt.axvline(x=0, color='b', label='avline')\n",
    "\n",
    "plt.subplot(122)\n",
    "\n",
    "plt.hist(regressions, bins = 20)\n",
    "\n",
    "plt.axvline(x=0, color='b', label='avline')\n",
    "\n",
    "plt.show()\n"
   ]
  },
  {
   "cell_type": "code",
   "execution_count": null,
   "id": "106ddaf4",
   "metadata": {},
   "outputs": [],
   "source": []
  }
 ],
 "metadata": {
  "kernelspec": {
   "display_name": "Python 3",
   "language": "python",
   "name": "python3"
  },
  "language_info": {
   "codemirror_mode": {
    "name": "ipython",
    "version": 3
   },
   "file_extension": ".py",
   "mimetype": "text/x-python",
   "name": "python",
   "nbconvert_exporter": "python",
   "pygments_lexer": "ipython3",
   "version": "3.8.8"
  }
 },
 "nbformat": 4,
 "nbformat_minor": 5
}
