{
 "cells": [
  {
   "cell_type": "markdown",
   "id": "ccd31fb5",
   "metadata": {},
   "source": [
    "# **Brady Analysis**\n",
    "\n",
    "The point of this exercise to to analyze past nfl data and see if brady elevated his players or not. this is done by first creating a baseline of the player with brady, and how he did without."
   ]
  },
  {
   "cell_type": "code",
   "execution_count": 21,
   "id": "64be3b10",
   "metadata": {},
   "outputs": [],
   "source": [
    "#import libraries\n",
    "import numpy as np\n",
    "import pandas as pd\n",
    "import re"
   ]
  },
  {
   "cell_type": "code",
   "execution_count": 22,
   "id": "97936093",
   "metadata": {},
   "outputs": [
    {
     "name": "stderr",
     "output_type": "stream",
     "text": [
      "/opt/anaconda3/lib/python3.8/site-packages/IPython/core/interactiveshell.py:3165: DtypeWarning: Columns (15,33) have mixed types.Specify dtype option on import or set low_memory=False.\n",
      "  has_raised = await self.run_ast_nodes(code_ast.body, cell_name,\n"
     ]
    }
   ],
   "source": [
    "#import data undo dataframes for each respective year\n",
    "#data is from NFLsavant.com\n",
    "df13 = pd.read_csv('pbp-2013.csv')\n",
    "df14 = pd.read_csv('pbp-2014.csv')\n",
    "df15 = pd.read_csv('pbp-2015.csv')\n",
    "df16 = pd.read_csv('pbp-2016.csv')\n",
    "df17 = pd.read_csv('pbp-2017.csv')\n",
    "df18 = pd.read_csv('pbp-2018.csv')\n",
    "df19 = pd.read_csv('pbp-2019.csv')\n",
    "df20 = pd.read_csv('pbp-2020.csv')"
   ]
  },
  {
   "cell_type": "code",
   "execution_count": 23,
   "id": "22c22592",
   "metadata": {},
   "outputs": [
    {
     "name": "stdout",
     "output_type": "stream",
     "text": [
      "['D.AMENDOLA', 'J.EDELMAN', 'K.THOMPKINS', 'S.VEREEN', 'Z.SUDFELD', 'M.HOOMANAWANUI', 'A.DOBSON', 'J.DEVELIN', 'B.BOLDEN', 'S.RIDLEY', 'M.MULLIGAN', 'J.BOYCE', 'A.COLLIE', 'R.GRONKOWSKI', 'S.PHILLIPS', 'L.BLOUNT']\n",
      "['B.LAFELL', 'S.VEREEN', 'R.GRONKOWSKI', 'D.AMENDOLA', 'J.EDELMAN', 'K.THOMPKINS', 'T.WRIGHT', 'S.RIDLEY', 'T.BRADY', 'B.BOLDEN', 'J.DEVELIN', 'M.HOOMANAWANUI', 'A.DOBSON', 'B.TYMS', 'L.BLOUNT', 'J.GRAY']\n",
      "['A.DOBSON', 'J.EDELMAN', 'K.MARTIN', 'R.GRONKOWSKI', 'D.LEWIS', 'D.AMENDOLA', 'B.BOLDEN', 'J.WHITE', 'S.CHANDLER', 'B.LAFELL', 'S.JACKSON', 'M.WILLIAMS', 'T.CADET', 'L.BLOUNT', 'C.HARPER', 'A.CLEVELAND']\n"
     ]
    }
   ],
   "source": [
    "#create a function to find all players associated with the QB per year\n",
    "def name_bin(df, name):\n",
    "    df_bin = []\n",
    "    for x in df[(df['PlayType'] == 'PASS') & (df['IsIncomplete'] == 0)]['Description']:\n",
    "        if name in x:\n",
    "            x_re = re.compile(r'(\\w\\.\\w+)')\n",
    "            player = x_re.findall(x)\n",
    "            #print(player)\n",
    "            if player[1] not in df_bin:\n",
    "                df_bin.append(player[1])\n",
    "    return df_bin\n",
    "\n",
    "#create bins of players for each respective year\n",
    "bin_2013 = name_bin(df13, 'T.BRADY')\n",
    "bin_2014 = name_bin(df14, 'T.BRADY')\n",
    "bin_2015 = name_bin(df15, 'T.BRADY')\n",
    "bin_2016 = name_bin(df16, 'T.BRADY')\n",
    "bin_2017 = name_bin(df17, 'T.BRADY')\n",
    "bin_2018 = name_bin(df18, 'T.BRADY')\n",
    "bin_2019 = name_bin(df19, 'T.BRADY')\n",
    "bin_2020 = name_bin(df20, 'T.BRADY')\n",
    "print(bin_2013)\n",
    "print(bin_2014)\n",
    "print(bin_2015)"
   ]
  },
  {
   "cell_type": "code",
   "execution_count": 24,
   "id": "7fe96bdf",
   "metadata": {},
   "outputs": [],
   "source": [
    "#create a function to total yards and touchdown for the given year\n",
    "def get_stats(name, df, year):\n",
    "    year = str(year)\n",
    "    year = year[2:]\n",
    "    #print(year)\n",
    "    total_yards = 0\n",
    "    total_tds = 0\n",
    "    for index, x in df[(df['PlayType'] == 'PASS') & (df['IsIncomplete'] == 0) \\\n",
    "                       & (df['IsPenaltyAccepted'] == 0) & (df['GameDate'].str.contains(str(year)))].iterrows():\n",
    "        if name in x['Description']:\n",
    "            total_yards += x['Yards']\n",
    "            total_tds += x['IsTouchdown']\n",
    "    return (year, total_yards, total_tds)\n",
    "\n",
    "#tested for d.amendola  \n",
    "#da_yr, da_yds, da_tds = get_stats('D.AMENDOLA', df13, 2013)\n",
    "#print(da_yr, da_yds, da_tds)\n",
    "            \n",
    "            "
   ]
  },
  {
   "cell_type": "code",
   "execution_count": 25,
   "id": "36db5a30",
   "metadata": {},
   "outputs": [],
   "source": [
    "#created empty bins for comparison later\n",
    "pre_brady = {}\n",
    "with_brady = {}\n",
    "post_brady = {}\n",
    "\n",
    "#created lists for easier loop access\n",
    "years = [2013, 2014, 2015, 2016, 2017, 2018, 2019, 2020]\n",
    "bins = [bin_2013, bin_2014, bin_2015, bin_2016, bin_2017, bin_2018, bin_2019, bin_2020]\n",
    "dfs = [df13, df14, df15, df16, df17, df18, df19, df20]\n",
    "\n",
    "\n"
   ]
  },
  {
   "cell_type": "code",
   "execution_count": 26,
   "id": "2d4de7b5",
   "metadata": {},
   "outputs": [],
   "source": [
    "#create the initial bin\n",
    "for x in bin_2013:\n",
    "    if x not in with_brady.keys():\n",
    "        with_brady[x] = [get_stats(x, df13, 2013)]\n",
    "#print(list(with_brady.items()))\n",
    "#print(list(with_brady.keys()))"
   ]
  },
  {
   "cell_type": "markdown",
   "id": "ec0af217",
   "metadata": {},
   "source": [
    "for s in range(1,3):\n",
    "    for name in bins[s]:\n",
    "        if name not in bins[s-1]:\n",
    "            if name not in pre_brady.keys():\n",
    "                pre_brady[name] = [get_stats(name, dfs[s], years[s])]\n",
    "            else:\n",
    "                pre_brady[name] += [get_stats(name, dfs[s], years[s])]\n",
    "        elif name not in bins[s+1]:\n",
    "            if name not in post_brady.keys():\n",
    "                post_brady[name] = [get_stats(name, dfs[s], years[s])]\n",
    "            else:\n",
    "                post_brady[name] += [get_stats(name, dfs[s], years[s])]\n",
    "        else:\n",
    "            if name not in with_brady.keys():\n",
    "                with_brady[name] = [get_stats(name, dfs[s], years[s])]\n",
    "            else:\n",
    "                with_brady[name] += [get_stats(name, dfs[s], years[s])]\n",
    "        "
   ]
  },
  {
   "cell_type": "code",
   "execution_count": 27,
   "id": "712c4d3b",
   "metadata": {},
   "outputs": [],
   "source": [
    "for s in range(1,len(bins)-1):\n",
    "    for name in bins[s]:\n",
    "        if name not in bins[s-1]:\n",
    "            if name not in pre_brady.keys():\n",
    "                pre_brady[name] = []\n",
    "            for y in range(0,s):\n",
    "                pre_brady[name] += [get_stats(name, dfs[y], years[y])]\n",
    "                   \n",
    "        elif name not in bins[s+1]:\n",
    "            if name not in post_brady.keys():\n",
    "                post_brady[name] = []\n",
    "            for y in range(s+1,len(bins) - 1):\n",
    "                post_brady[name] += [get_stats(name, dfs[y], years[y])]\n",
    "                \n",
    "                \n",
    "        else:\n",
    "            if name not in with_brady.keys():\n",
    "                with_brady[name] = [get_stats(name, dfs[s], years[s])]\n",
    "            else:\n",
    "                with_brady[name] += [get_stats(name, dfs[s], years[s])]\n",
    "#create the final bin              \n",
    "for x in bin_2020:\n",
    "    if x not in with_brady.keys():\n",
    "        post_brady[x] = [get_stats(x, df13, 2020)]\n",
    "        "
   ]
  },
  {
   "cell_type": "code",
   "execution_count": 28,
   "id": "bb7f62c1",
   "metadata": {},
   "outputs": [],
   "source": [
    "#Get rid of brady in the pre bin to avoid confusion\n",
    "pre_brady = {key:val for key, val in pre_brady.items() if key != 'T.BRADY'}"
   ]
  },
  {
   "cell_type": "code",
   "execution_count": 29,
   "id": "284da979",
   "metadata": {},
   "outputs": [
    {
     "name": "stdout",
     "output_type": "stream",
     "text": [
      "pre\n",
      "dict_items([('B.LAFELL', [('13', 706, 5)]), ('T.WRIGHT', [('13', 528, 5)]), ('B.TYMS', [('13', 12, 0)]), ('J.GRAY', [('13', 0, 0)]), ('K.MARTIN', [('13', 261, 2), ('14', 116, 0)]), ('D.LEWIS', [('13', 0, 0), ('14', 0, 0)]), ('J.WHITE', [('13', 0, 0), ('14', 23, 0)]), ('S.CHANDLER', [('13', 656, 2), ('14', 486, 3)]), ('S.JACKSON', [('13', 199, 1), ('14', 148, 0)]), ('M.WILLIAMS', [('13', 219, 1), ('14', 330, 1)]), ('T.CADET', [('13', 5, 1), ('14', 297, 1)]), ('C.HARPER', [('13', 0, 0), ('14', 0, 0)]), ('A.CLEVELAND', [('13', 0, 0), ('14', 0, 0)]), ('C.HOGAN', [('13', 83, 0), ('14', 425, 4), ('15', 465, 2)]), ('M.MITCHELL', [('13', 563, 0), ('14', 463, 0), ('15', 846, 3)]), ('M.BENNETT', [('13', 876, 6), ('14', 1018, 5), ('15', 654, 5)]), ('J.DEVELIN', [('13', 62, 0), ('14', 43, 0), ('15', 0, 0)]), ('M.FLOYD', [('13', 1265, 4), ('14', 1842, 13), ('15', 1470, 10)]), ('M.LENGEL', [('13', 0, 0), ('14', 0, 0), ('15', 0, 0)]), ('R.BURKHEAD', [('13', 0, 0), ('14', 59, 0), ('15', 94, 1), ('16', 114, 0)]), ('B.COOKS', [('13', 0, 0), ('14', 601, 3), ('15', 1168, 10), ('16', 1170, 8)]), ('D.ALLEN', [('13', 20, 1), ('14', 408, 8), ('15', 109, 1), ('16', 387, 5)]), ('J.HOLLISTER', [('13', 0, 0), ('14', 0, 0), ('15', 0, 0), ('16', 0, 0)]), ('P.DORSETT', [('13', 0, 0), ('14', 0, 0), ('15', 197, 1), ('16', 570, 3)]), ('K.BRITT', [('13', 97, 0), ('14', 829, 5), ('15', 555, 2), ('16', 1041, 6)]), ('M.GILLISLEE', [('13', 0, 0), ('14', 0, 0), ('15', 30, 1), ('16', 39, 1)]), ('B.BOLDEN', [('13', 139, 0), ('14', 8, 0), ('15', 175, 2), ('16', 15, 0), ('13', 139, 0), ('14', 8, 0), ('15', 175, 2), ('16', 15, 0), ('17', 7, 0), ('18', 13, 1)]), ('J.EDELMAN', [('13', 1068, 5), ('14', 1008, 4), ('15', 709, 8), ('16', 1019, 2), ('17', 0, 0)]), ('C.PATTERSON', [('13', 501, 5), ('14', 514, 3), ('15', 10, 0), ('16', 407, 1), ('17', 280, 0)]), ('J.GORDON', [('13', 1650, 9), ('14', 301, 0), ('15', 0, 0), ('16', 0, 0), ('17', 337, 2)]), ('S.MICHEL', [('13', 0, 0), ('14', 0, 0), ('15', 0, 0), ('16', 0, 0), ('17', 0, 0)]), ('J.HILL', [('13', 44, 1), ('14', 516, 5), ('15', 259, 3), ('16', 290, 0), ('17', 134, 1)]), ('N.HARRY', [('13', 0, 0), ('14', 0, 0), ('15', 0, 0), ('16', 0, 0), ('17', 0, 0), ('18', 0, 0)]), ('M.LACOSSE', [('13', 0, 0), ('14', 0, 0), ('15', 22, 0), ('16', 0, 0), ('17', 0, 0), ('18', 269, 1)]), ('M.SANU', [('13', 519, 2), ('14', 865, 6), ('15', 415, 0), ('16', 623, 3), ('17', 781, 6), ('18', 835, 5)]), ('B.WATSON', [('13', 235, 2), ('14', 136, 2), ('15', 767, 5), ('16', 0, 0), ('17', 576, 4), ('18', 407, 3)]), ('J.MEYERS', [('13', 0, 0), ('14', 0, 0), ('15', 0, 0), ('16', 0, 0), ('17', 0, 0), ('18', 0, 0)]), ('E.TOMLINSON', [('13', 0, 0), ('14', 0, 0), ('15', 0, 0), ('16', 0, 0), ('17', 121, 1), ('18', 145, 1)]), ('R.IZZO', [('13', 0, 0), ('14', 0, 0), ('15', 0, 0), ('16', 0, 0), ('17', 0, 0), ('18', 0, 0)]), ('K.JOHNSON', [('13', 0, 0), ('14', 0, 0), ('15', 370, 0), ('16', 206, 0), ('17', 307, 0), ('18', 262, 1)]), ('A.BROWN', [('13', 1680, 8), ('14', 1656, 13), ('15', 1885, 11), ('16', 1666, 10), ('17', 2532, 15), ('18', 1604, 15)]), ('G.OLSZEWSKI', [('13', 0, 0), ('14', 0, 0), ('15', 0, 0), ('16', 0, 0), ('17', 0, 0), ('18', 0, 0)])])\n",
      "Post\n",
      "dict_items([('S.VEREEN', [('15', 430, 4), ('16', 96, 0), ('17', 256, 0), ('18', 0, 0), ('19', 0, 0)]), ('K.THOMPKINS', [('15', 168, 0), ('16', 0, 0), ('17', 0, 0), ('18', 0, 0), ('19', 0, 0)]), ('S.RIDLEY', [('15', -2, 0), ('16', 0, 0), ('17', 0, 0), ('18', 18, 0), ('19', 0, 0)]), ('J.DEVELIN', [('15', 0, 0), ('16', 18, 0), ('17', 38, 0), ('18', 89, 0), ('19', 0, 0), ('19', 0, 0)]), ('M.HOOMANAWANUI', [('15', 76, 3), ('16', 0, 0), ('17', 67, 1), ('18', 0, 0), ('19', 0, 0)]), ('A.DOBSON', [('16', 0, 0), ('17', 0, 0), ('18', 0, 0), ('19', 0, 0)]), ('B.BOLDEN', [('16', 15, 0), ('17', 7, 0), ('18', 13, 1), ('19', 172, 2)]), ('B.LAFELL', [('16', 851, 6), ('17', 582, 3), ('18', 135, 2), ('19', 0, 0)]), ('J.EDELMAN', [('17', 0, 0), ('18', 877, 6), ('19', 1139, 8)]), ('L.BLOUNT', [('17', 50, 1), ('18', 67, 0), ('19', 0, 0)]), ('D.AMENDOLA', [('18', 691, 2), ('19', 732, 2)]), ('M.BENNETT', [('18', 214, 2), ('19', 45, 0)]), ('D.LEWIS', [('18', 372, 1), ('19', 178, 1)]), ('C.HOGAN', [('19', 53, 0)]), ('R.GRONKOWSKI', [('19', 0, 0)]), ('D.ALLEN', [('19', 0, 0)]), ('J.HOLLISTER', [('19', 413, 4)]), ('S.MICHEL', []), ('R.BURKHEAD', []), ('J.WHITE', []), ('P.DORSETT', []), ('J.GORDON', []), ('C.GODWIN', [('20', 0, 0)]), ('L.FOURNETTE', [('20', 0, 0)]), ('A.BROWN', [('20', 50, 0)]), ('S.MILLER', [('20', 0, 0)]), ('T.JOHNSON', [('20', 75, 0)]), ('C.BRATE', [('20', 0, 0)]), ('M.EVANS', [('20', 0, 0)]), ('T.BRADY', [('20', 251, 1)]), ('R.JONES', [('20', 43, 0)]), ('J.WATSON', [('20', 0, 0)]), ('O.HOWARD', [('20', 0, 0)]), ('L.MCCOY', [('20', 26, 0)]), ('K.VAUGHN', [('20', 0, 0)]), ('J.MICKENS', [('20', 0, 0)]), ('T.HUDSON', [('20', 0, 0)])])\n",
      "with\n",
      "[('D.AMENDOLA', [('13', 633, 2), ('14', 200, 1), ('15', 752, 4), ('16', 238, 4)]), ('J.EDELMAN', [('13', 1068, 5), ('14', 1008, 4), ('15', 709, 8)]), ('K.THOMPKINS', [('13', 440, 4)]), ('S.VEREEN', [('13', 426, 3)]), ('Z.SUDFELD', [('13', 84, 0)]), ('M.HOOMANAWANUI', [('13', 134, 1)]), ('A.DOBSON', [('13', 522, 4), ('14', 38, 0)]), ('J.DEVELIN', [('13', 62, 0), ('17', 38, 0)]), ('B.BOLDEN', [('13', 139, 0), ('14', 8, 0)]), ('S.RIDLEY', [('13', 63, 0)]), ('M.MULLIGAN', [('13', 16, 1)]), ('J.BOYCE', [('13', 121, 0)]), ('A.COLLIE', [('13', 63, 0)]), ('R.GRONKOWSKI', [('13', 629, 4), ('14', 1125, 12), ('15', 1174, 12), ('16', 528, 3), ('17', 1109, 8)]), ('S.PHILLIPS', [('13', 25, 0)]), ('L.BLOUNT', [('13', 49, 0), ('14', 54, 0), ('15', 43, 1)]), ('J.WHITE', [('16', 530, 5), ('17', 463, 3), ('18', 1309, 7)]), ('D.LEWIS', [('16', 91, 0)]), ('C.HOGAN', [('17', 441, 5)]), ('P.DORSETT', [('18', 304, 3)]), ('R.BURKHEAD', [('18', 139, 1)])]\n"
     ]
    }
   ],
   "source": [
    "print('pre')\n",
    "print(pre_brady.items())\n",
    "print('Post')\n",
    "print(post_brady.items())\n",
    "print('with')\n",
    "print(list(with_brady.items()))\n"
   ]
  },
  {
   "cell_type": "code",
   "execution_count": 30,
   "id": "414a2be5",
   "metadata": {},
   "outputs": [
    {
     "name": "stdout",
     "output_type": "stream",
     "text": [
      "['D.AMENDOLA', 'J.EDELMAN', 'K.THOMPKINS', 'S.VEREEN', 'Z.SUDFELD', 'M.HOOMANAWANUI', 'A.DOBSON', 'J.DEVELIN', 'B.BOLDEN', 'S.RIDLEY', 'M.MULLIGAN', 'J.BOYCE', 'A.COLLIE', 'R.GRONKOWSKI', 'S.PHILLIPS', 'L.BLOUNT', 'B.LAFELL', 'T.WRIGHT', 'T.BRADY', 'B.TYMS', 'J.GRAY', 'K.MARTIN', 'D.LEWIS', 'J.WHITE', 'S.CHANDLER', 'S.JACKSON', 'M.WILLIAMS', 'T.CADET', 'C.HARPER', 'A.CLEVELAND', 'C.HOGAN', 'M.MITCHELL', 'M.BENNETT', 'M.FLOYD', 'M.LENGEL', 'R.BURKHEAD', 'B.COOKS', 'D.ALLEN', 'J.HOLLISTER', 'P.DORSETT', 'K.BRITT', 'M.GILLISLEE', 'C.PATTERSON', 'J.GORDON', 'S.MICHEL', 'J.HILL', 'N.HARRY', 'M.LACOSSE', 'M.SANU', 'B.WATSON', 'J.MEYERS', 'E.TOMLINSON', 'R.IZZO', 'K.JOHNSON', 'A.BROWN', 'G.OLSZEWSKI', 'C.GODWIN', 'L.FOURNETTE', 'S.MILLER', 'T.JOHNSON', 'C.BRATE', 'M.EVANS', 'R.JONES', 'J.WATSON', 'O.HOWARD', 'L.MCCOY', 'K.VAUGHN', 'J.MICKENS', 'T.HUDSON']\n"
     ]
    }
   ],
   "source": [
    "master = []\n",
    "for x in bins:\n",
    "    for s in x:\n",
    "        if s not in master:\n",
    "            master.append(s)\n",
    "print(master)"
   ]
  },
  {
   "cell_type": "code",
   "execution_count": null,
   "id": "39931f4b",
   "metadata": {},
   "outputs": [],
   "source": []
  }
 ],
 "metadata": {
  "kernelspec": {
   "display_name": "Python 3",
   "language": "python",
   "name": "python3"
  },
  "language_info": {
   "codemirror_mode": {
    "name": "ipython",
    "version": 3
   },
   "file_extension": ".py",
   "mimetype": "text/x-python",
   "name": "python",
   "nbconvert_exporter": "python",
   "pygments_lexer": "ipython3",
   "version": "3.8.8"
  }
 },
 "nbformat": 4,
 "nbformat_minor": 5
}
